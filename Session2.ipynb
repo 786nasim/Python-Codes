{
 "cells": [
  {
   "cell_type": "markdown",
   "id": "c00a5c88",
   "metadata": {},
   "source": [
    "# PYTHON Basics"
   ]
  },
  {
   "cell_type": "code",
   "execution_count": 3,
   "id": "bbc9a435",
   "metadata": {},
   "outputs": [
    {
     "name": "stdout",
     "output_type": "stream",
     "text": [
      "Enter any country name=America\n"
     ]
    }
   ],
   "source": [
    "#Input Function\n",
    "\n",
    "country=input(\"Enter any country name=\")"
   ]
  },
  {
   "cell_type": "code",
   "execution_count": 4,
   "id": "43af1200",
   "metadata": {},
   "outputs": [
    {
     "data": {
      "text/plain": [
       "'America'"
      ]
     },
     "execution_count": 4,
     "metadata": {},
     "output_type": "execute_result"
    }
   ],
   "source": [
    "country"
   ]
  },
  {
   "cell_type": "code",
   "execution_count": 5,
   "id": "a023a350",
   "metadata": {},
   "outputs": [],
   "source": [
    "# * sign is hang up sign if * symbol came clk on kernel then interrupt it will refresh."
   ]
  },
  {
   "cell_type": "code",
   "execution_count": 7,
   "id": "fd125c59",
   "metadata": {},
   "outputs": [
    {
     "name": "stdout",
     "output_type": "stream",
     "text": [
      "Enter any hollywood movie name=Spiderman\n"
     ]
    },
    {
     "data": {
      "text/plain": [
       "'Spiderman'"
      ]
     },
     "execution_count": 7,
     "metadata": {},
     "output_type": "execute_result"
    }
   ],
   "source": [
    "moviename=input(\"Enter any hollywood movie name=\")\n",
    "moviename"
   ]
  },
  {
   "cell_type": "code",
   "execution_count": 8,
   "id": "14a7810f",
   "metadata": {},
   "outputs": [
    {
     "data": {
      "text/plain": [
       "str"
      ]
     },
     "execution_count": 8,
     "metadata": {},
     "output_type": "execute_result"
    }
   ],
   "source": [
    "type(moviename)"
   ]
  },
  {
   "cell_type": "code",
   "execution_count": 9,
   "id": "10f7860c",
   "metadata": {},
   "outputs": [
    {
     "name": "stdout",
     "output_type": "stream",
     "text": [
      "Enter any number87\n"
     ]
    }
   ],
   "source": [
    "number1=input(\"Enter any number\")\n"
   ]
  },
  {
   "cell_type": "code",
   "execution_count": 10,
   "id": "f45d6b05",
   "metadata": {},
   "outputs": [
    {
     "data": {
      "text/plain": [
       "str"
      ]
     },
     "execution_count": 10,
     "metadata": {},
     "output_type": "execute_result"
    }
   ],
   "source": [
    "type(number1)"
   ]
  },
  {
   "cell_type": "code",
   "execution_count": 11,
   "id": "33ae45ed",
   "metadata": {},
   "outputs": [
    {
     "name": "stdout",
     "output_type": "stream",
     "text": [
      "Enter any number=10\n"
     ]
    }
   ],
   "source": [
    "number2=input(\"Enter any number=\")"
   ]
  },
  {
   "cell_type": "code",
   "execution_count": 12,
   "id": "f8f8bd9e",
   "metadata": {},
   "outputs": [
    {
     "data": {
      "text/plain": [
       "'8710'"
      ]
     },
     "execution_count": 12,
     "metadata": {},
     "output_type": "execute_result"
    }
   ],
   "source": [
    "#adding two user input values\n",
    "number1+number2"
   ]
  },
  {
   "cell_type": "code",
   "execution_count": 13,
   "id": "82c34ea6",
   "metadata": {},
   "outputs": [
    {
     "data": {
      "text/plain": [
       "int"
      ]
     },
     "execution_count": 13,
     "metadata": {},
     "output_type": "execute_result"
    }
   ],
   "source": [
    "#Typecasting\n",
    "p=58\n",
    "type(p)"
   ]
  },
  {
   "cell_type": "code",
   "execution_count": 18,
   "id": "0b603310",
   "metadata": {
    "scrolled": true
   },
   "outputs": [
    {
     "data": {
      "text/plain": [
       "58.0"
      ]
     },
     "execution_count": 18,
     "metadata": {},
     "output_type": "execute_result"
    }
   ],
   "source": [
    "pf=float(p)\n",
    "pf"
   ]
  },
  {
   "cell_type": "code",
   "execution_count": 20,
   "id": "b85b0274",
   "metadata": {},
   "outputs": [
    {
     "data": {
      "text/plain": [
       "float"
      ]
     },
     "execution_count": 20,
     "metadata": {},
     "output_type": "execute_result"
    }
   ],
   "source": [
    "type(pf)"
   ]
  },
  {
   "cell_type": "code",
   "execution_count": 21,
   "id": "d49fe864",
   "metadata": {},
   "outputs": [
    {
     "data": {
      "text/plain": [
       "float"
      ]
     },
     "execution_count": 21,
     "metadata": {},
     "output_type": "execute_result"
    }
   ],
   "source": [
    "x=39.78\n",
    "type(x)"
   ]
  },
  {
   "cell_type": "code",
   "execution_count": 22,
   "id": "a754f89e",
   "metadata": {},
   "outputs": [
    {
     "data": {
      "text/plain": [
       "39"
      ]
     },
     "execution_count": 22,
     "metadata": {},
     "output_type": "execute_result"
    }
   ],
   "source": [
    "m=int(x)\n",
    "m"
   ]
  },
  {
   "cell_type": "code",
   "execution_count": 23,
   "id": "cea98bb8",
   "metadata": {},
   "outputs": [
    {
     "data": {
      "text/plain": [
       "int"
      ]
     },
     "execution_count": 23,
     "metadata": {},
     "output_type": "execute_result"
    }
   ],
   "source": [
    "type(m)"
   ]
  },
  {
   "cell_type": "code",
   "execution_count": 24,
   "id": "cbf779f4",
   "metadata": {},
   "outputs": [
    {
     "data": {
      "text/plain": [
       "str"
      ]
     },
     "execution_count": 24,
     "metadata": {},
     "output_type": "execute_result"
    }
   ],
   "source": [
    "a='10'\n",
    "type(a)"
   ]
  },
  {
   "cell_type": "code",
   "execution_count": 25,
   "id": "b58abcec",
   "metadata": {},
   "outputs": [],
   "source": [
    "x=int(a)"
   ]
  },
  {
   "cell_type": "code",
   "execution_count": 26,
   "id": "b0a57a12",
   "metadata": {},
   "outputs": [
    {
     "data": {
      "text/plain": [
       "10"
      ]
     },
     "execution_count": 26,
     "metadata": {},
     "output_type": "execute_result"
    }
   ],
   "source": [
    "x"
   ]
  },
  {
   "cell_type": "code",
   "execution_count": 27,
   "id": "0f6efed4",
   "metadata": {},
   "outputs": [
    {
     "name": "stdout",
     "output_type": "stream",
     "text": [
      "Enter value of a=10\n",
      "Enter value of b=20\n",
      "Addition= 30\n"
     ]
    }
   ],
   "source": [
    "a=input(\"Enter value of a=\")\n",
    "b=input(\"Enter value of b=\")\n",
    "\n",
    "c=int(a)+int(b)    #typecasting\n",
    "\n",
    "print (\"Addition=\",c)"
   ]
  },
  {
   "cell_type": "code",
   "execution_count": 29,
   "id": "29259275",
   "metadata": {},
   "outputs": [
    {
     "name": "stdout",
     "output_type": "stream",
     "text": [
      "Enter the number=38\n"
     ]
    }
   ],
   "source": [
    "#typecasting\n",
    "m=int(input(\"Enter the number=\"))"
   ]
  },
  {
   "cell_type": "code",
   "execution_count": 30,
   "id": "a71d2996",
   "metadata": {},
   "outputs": [
    {
     "name": "stdout",
     "output_type": "stream",
     "text": [
      "Enter the number2=100\n"
     ]
    }
   ],
   "source": [
    "n=int(input(\"Enter the number2=\"))"
   ]
  },
  {
   "cell_type": "code",
   "execution_count": 31,
   "id": "db6a982c",
   "metadata": {},
   "outputs": [
    {
     "data": {
      "text/plain": [
       "138"
      ]
     },
     "execution_count": 31,
     "metadata": {},
     "output_type": "execute_result"
    }
   ],
   "source": [
    "m+n"
   ]
  },
  {
   "cell_type": "code",
   "execution_count": 32,
   "id": "f9050fd6",
   "metadata": {},
   "outputs": [
    {
     "name": "stdout",
     "output_type": "stream",
     "text": [
      "Area of rectangle= 69\n"
     ]
    }
   ],
   "source": [
    "#creating area of rectangle using Stati and Dynamic\n",
    "#Static Values\n",
    "\n",
    "length=23\n",
    "breadth=3\n",
    "\n",
    "area=length*breadth\n",
    "\n",
    "print(\"Area of rectangle=\",area)"
   ]
  },
  {
   "cell_type": "code",
   "execution_count": 34,
   "id": "cb95a5c0",
   "metadata": {},
   "outputs": [
    {
     "name": "stdout",
     "output_type": "stream",
     "text": [
      "Enter the length=10\n",
      "Length= 10\n",
      "Enter the breadth=20\n",
      "Breadth= 20\n",
      "Area of Rectangle= 200\n"
     ]
    }
   ],
   "source": [
    "#Dynamic Values\n",
    "\n",
    "l=int(input(\"Enter the length=\"))\n",
    "\n",
    "print(\"Length=\",l)\n",
    "\n",
    "b=int(input(\"Enter the breadth=\"))\n",
    "\n",
    "print(\"Breadth=\",b)\n",
    "\n",
    "a=l*b\n",
    "\n",
    "print(\"Area of Rectangle=\",a)"
   ]
  },
  {
   "cell_type": "code",
   "execution_count": 35,
   "id": "49c49bfe",
   "metadata": {},
   "outputs": [
    {
     "name": "stdout",
     "output_type": "stream",
     "text": [
      "Enter value of pi3.14\n",
      "PI= 3.14\n",
      "Enter value of radius=5\n",
      "Radius= 5.0\n",
      "Area of circle= 31.400000000000002\n"
     ]
    }
   ],
   "source": [
    "#Area of circle\n",
    "\n",
    "pi=float(input(\"Enter value of pi\"))\n",
    "\n",
    "print(\"PI=\",pi)\n",
    "\n",
    "radius=float(input(\"Enter value of radius=\"))\n",
    "print(\"Radius=\",radius)\n",
    "\n",
    "area=pi*(radius*2)\n",
    "\n",
    "print(\"Area of circle=\",area)\n"
   ]
  },
  {
   "cell_type": "code",
   "execution_count": 36,
   "id": "0bcdf06d",
   "metadata": {},
   "outputs": [
    {
     "data": {
      "text/plain": [
       "31.4"
      ]
     },
     "execution_count": 36,
     "metadata": {},
     "output_type": "execute_result"
    }
   ],
   "source": [
    "#Round function\n",
    "round(area,2)"
   ]
  },
  {
   "cell_type": "code",
   "execution_count": 37,
   "id": "ef3b64a3",
   "metadata": {},
   "outputs": [
    {
     "data": {
      "text/plain": [
       "2345.35"
      ]
     },
     "execution_count": 37,
     "metadata": {},
     "output_type": "execute_result"
    }
   ],
   "source": [
    "round(2345.3456,2)"
   ]
  },
  {
   "cell_type": "code",
   "execution_count": 42,
   "id": "b26b3b8d",
   "metadata": {},
   "outputs": [
    {
     "name": "stdout",
     "output_type": "stream",
     "text": [
      "Enter any value to find square root=25\n",
      "Square of a number of   25 is= 5.0\n"
     ]
    }
   ],
   "source": [
    "#Square Root\n",
    "s=int(input(\"Enter any value to find square root=\"))\n",
    "\n",
    "p=s**(1/2)\n",
    "\n",
    "print(\"Square of a number of  \",s,\"is=\",p)"
   ]
  },
  {
   "cell_type": "code",
   "execution_count": null,
   "id": "ad2fcfd8",
   "metadata": {},
   "outputs": [],
   "source": []
  }
 ],
 "metadata": {
  "kernelspec": {
   "display_name": "Python 3 (ipykernel)",
   "language": "python",
   "name": "python3"
  },
  "language_info": {
   "codemirror_mode": {
    "name": "ipython",
    "version": 3
   },
   "file_extension": ".py",
   "mimetype": "text/x-python",
   "name": "python",
   "nbconvert_exporter": "python",
   "pygments_lexer": "ipython3",
   "version": "3.9.7"
  }
 },
 "nbformat": 4,
 "nbformat_minor": 5
}
