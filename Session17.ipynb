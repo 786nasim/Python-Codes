{
 "cells": [
  {
   "cell_type": "markdown",
   "id": "f91f6a11",
   "metadata": {},
   "source": [
    "# INSERTING DATA FROM CSV FILE"
   ]
  },
  {
   "cell_type": "code",
   "execution_count": 1,
   "id": "f6a2c2ce",
   "metadata": {},
   "outputs": [],
   "source": [
    "import sqlite3"
   ]
  },
  {
   "cell_type": "code",
   "execution_count": 2,
   "id": "a66355fb",
   "metadata": {},
   "outputs": [],
   "source": [
    "db=sqlite3.connect(\"E:/scores_database.db\")\n",
    "\n",
    "cursor=db.cursor()"
   ]
  },
  {
   "cell_type": "code",
   "execution_count": 3,
   "id": "2739035c",
   "metadata": {},
   "outputs": [
    {
     "name": "stdout",
     "output_type": "stream",
     "text": [
      "-1 Record(s) inserted\n"
     ]
    }
   ],
   "source": [
    "cursor.execute(\"create table Scores(gender TEXT,student_id int primary key,marks int)\")\n",
    "\n",
    "db.commit()\n",
    "\n",
    "print(cursor.rowcount,\"Record(s) inserted\")"
   ]
  },
  {
   "cell_type": "code",
   "execution_count": 5,
   "id": "b2d7e18a",
   "metadata": {},
   "outputs": [
    {
     "name": "stdout",
     "output_type": "stream",
     "text": [
      "10 Records inserted\n"
     ]
    }
   ],
   "source": [
    "with open('File1.csv','r') as file:\n",
    "    total_records=0\n",
    "    for row in file:\n",
    "        cursor.execute(\"insert into Scores values(?,?,?)\",row.split(\",\"))\n",
    "        db.commit()\n",
    "        total_records+=1\n",
    "print(total_records,\"Records inserted\")"
   ]
  },
  {
   "cell_type": "code",
   "execution_count": 6,
   "id": "b0993f48",
   "metadata": {},
   "outputs": [
    {
     "data": {
      "text/plain": [
       "[('Male', 101, 23),\n",
       " ('Male', 102, 55),\n",
       " ('Female', 103, 58),\n",
       " ('Male', 104, 63),\n",
       " ('Female', 105, 36),\n",
       " ('Male', 106, 23),\n",
       " ('Female', 107, 56),\n",
       " ('Male', 108, 89),\n",
       " ('Male', 109, 69),\n",
       " ('Male', 110, 56)]"
      ]
     },
     "execution_count": 6,
     "metadata": {},
     "output_type": "execute_result"
    }
   ],
   "source": [
    "result=cursor.execute(\"Select * from Scores\")\n",
    "result.fetchall()"
   ]
  },
  {
   "cell_type": "code",
   "execution_count": null,
   "id": "35a6a996",
   "metadata": {},
   "outputs": [],
   "source": []
  }
 ],
 "metadata": {
  "kernelspec": {
   "display_name": "Python 3 (ipykernel)",
   "language": "python",
   "name": "python3"
  },
  "language_info": {
   "codemirror_mode": {
    "name": "ipython",
    "version": 3
   },
   "file_extension": ".py",
   "mimetype": "text/x-python",
   "name": "python",
   "nbconvert_exporter": "python",
   "pygments_lexer": "ipython3",
   "version": "3.9.7"
  }
 },
 "nbformat": 4,
 "nbformat_minor": 5
}
