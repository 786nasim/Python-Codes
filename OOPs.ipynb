{
 "cells": [
  {
   "cell_type": "markdown",
   "id": "2b320523",
   "metadata": {},
   "source": [
    "# OOPs"
   ]
  },
  {
   "cell_type": "code",
   "execution_count": 10,
   "id": "468c7343",
   "metadata": {},
   "outputs": [],
   "source": [
    "class math:\n",
    "    def __init__(self,a,b):\n",
    "        self.a=a\n",
    "        self.b=b\n",
    "    def add(self):\n",
    "        return self.a+self.b\n",
    "    def sub(self):\n",
    "        return self.a-self.b\n",
    "    def div(self):\n",
    "        return self.a-self.b\n",
    "    def mul(self):\n",
    "        return self.a*self.b\n",
    "        "
   ]
  },
  {
   "cell_type": "code",
   "execution_count": 15,
   "id": "b3a542cc",
   "metadata": {},
   "outputs": [
    {
     "data": {
      "text/plain": [
       "200"
      ]
     },
     "execution_count": 15,
     "metadata": {},
     "output_type": "execute_result"
    }
   ],
   "source": [
    "cal=math(10,20)\n",
    "cal.add()\n",
    "cal.sub()\n",
    "cal.div()\n",
    "cal.mul()\n"
   ]
  },
  {
   "cell_type": "code",
   "execution_count": 22,
   "id": "7f441706",
   "metadata": {},
   "outputs": [],
   "source": [
    "class math1:\n",
    "    a=10\n",
    "    b=20\n",
    "    def add():\n",
    "        return a+b\n",
    "    def sub():\n",
    "        return a-b\n",
    "    def div():\n",
    "        return a-b\n",
    "    def mul():\n",
    "        return a*b\n",
    "        "
   ]
  },
  {
   "cell_type": "code",
   "execution_count": 24,
   "id": "9c74ae2f",
   "metadata": {},
   "outputs": [
    {
     "ename": "TypeError",
     "evalue": "add() takes 0 positional arguments but 1 was given",
     "output_type": "error",
     "traceback": [
      "\u001b[1;31m---------------------------------------------------------------------------\u001b[0m",
      "\u001b[1;31mTypeError\u001b[0m                                 Traceback (most recent call last)",
      "\u001b[1;32m~\\AppData\\Local\\Temp/ipykernel_9440/4288793871.py\u001b[0m in \u001b[0;36m<module>\u001b[1;34m\u001b[0m\n\u001b[0;32m      1\u001b[0m \u001b[0ms1\u001b[0m\u001b[1;33m=\u001b[0m\u001b[0mmath1\u001b[0m\u001b[1;33m(\u001b[0m\u001b[1;33m)\u001b[0m\u001b[1;33m\u001b[0m\u001b[1;33m\u001b[0m\u001b[0m\n\u001b[1;32m----> 2\u001b[1;33m \u001b[0ms1\u001b[0m\u001b[1;33m.\u001b[0m\u001b[0madd\u001b[0m\u001b[1;33m(\u001b[0m\u001b[1;33m)\u001b[0m\u001b[1;33m\u001b[0m\u001b[1;33m\u001b[0m\u001b[0m\n\u001b[0m",
      "\u001b[1;31mTypeError\u001b[0m: add() takes 0 positional arguments but 1 was given"
     ]
    }
   ],
   "source": [
    "s1=math1()\n",
    "s1.add()"
   ]
  },
  {
   "cell_type": "code",
   "execution_count": 1,
   "id": "70849d09",
   "metadata": {},
   "outputs": [],
   "source": [
    "class person:\n",
    "    def __init__(self,id,name):\n",
    "        self.id=id\n",
    "        self.name=name\n",
    "    def display(self):\n",
    "        print(\"ID of a person=\",self.id,\"Name=\",self.name)\n",
    "        "
   ]
  },
  {
   "cell_type": "code",
   "execution_count": 3,
   "id": "1eb17176",
   "metadata": {},
   "outputs": [
    {
     "name": "stdout",
     "output_type": "stream",
     "text": [
      "ID of a person= 12 Name= John\n",
      "ID of a person= 13 Name= Jack\n"
     ]
    }
   ],
   "source": [
    "p1=person(12,\"John\")\n",
    "p2=person(13,\"Jack\")\n",
    "p1.display()\n",
    "p2.display()"
   ]
  },
  {
   "cell_type": "code",
   "execution_count": 5,
   "id": "dc6224f9",
   "metadata": {},
   "outputs": [
    {
     "data": {
      "text/plain": [
       "'John'"
      ]
     },
     "execution_count": 5,
     "metadata": {},
     "output_type": "execute_result"
    }
   ],
   "source": [
    "p1.name"
   ]
  },
  {
   "cell_type": "code",
   "execution_count": 7,
   "id": "17b253a1",
   "metadata": {},
   "outputs": [
    {
     "data": {
      "text/plain": [
       "12"
      ]
     },
     "execution_count": 7,
     "metadata": {},
     "output_type": "execute_result"
    }
   ],
   "source": [
    "p1.id"
   ]
  },
  {
   "cell_type": "code",
   "execution_count": 16,
   "id": "5c9f7002",
   "metadata": {},
   "outputs": [],
   "source": [
    "class Employee:\n",
    "    revenue=10000\n",
    "    \n",
    "    def __init__(self,name,location,number_of_employees):\n",
    "        self.name=name\n",
    "        self.location=location\n",
    "        self.number_of_employees=number_of_employees\n",
    "        \n",
    "    \n",
    "  "
   ]
  },
  {
   "cell_type": "code",
   "execution_count": 17,
   "id": "b1cdb53c",
   "metadata": {
    "scrolled": true
   },
   "outputs": [
    {
     "name": "stdout",
     "output_type": "stream",
     "text": [
      "Name= John\n",
      "Location= London\n",
      "Number of employees= 12\n"
     ]
    },
    {
     "data": {
      "text/plain": [
       "10000"
      ]
     },
     "execution_count": 17,
     "metadata": {},
     "output_type": "execute_result"
    }
   ],
   "source": [
    "e1=Employee(\"John\",\"London\",12)\n",
    "\n",
    "print(\"Name=\",e1.name)\n",
    "print(\"Location=\",e1.location)\n",
    "print(\"Number of employees=\",e1.number_of_employees)\n",
    "Employee.revenue\n",
    "#print(e1.name)\n",
    "#print(e1.location)\n",
    "#print(e1.number_of_employees)"
   ]
  },
  {
   "cell_type": "code",
   "execution_count": 18,
   "id": "4055dff8",
   "metadata": {},
   "outputs": [],
   "source": [
    "class car:\n",
    "    \n",
    "    def __init__(self,company,color):\n",
    "        self.company=company\n",
    "        self.color=color\n",
    "        \n",
    "        \n",
    "    def display(self):\n",
    "        print(\"This is a\",self.company,self.color)"
   ]
  },
  {
   "cell_type": "code",
   "execution_count": 19,
   "id": "a52278b5",
   "metadata": {},
   "outputs": [],
   "source": [
    "def main():\n",
    "    c=car(\"Ferrari\",\"Red\")\n",
    "    c.display()"
   ]
  },
  {
   "cell_type": "code",
   "execution_count": 21,
   "id": "67a758f3",
   "metadata": {},
   "outputs": [
    {
     "name": "stdout",
     "output_type": "stream",
     "text": [
      "This is a Ferrari Red\n"
     ]
    }
   ],
   "source": [
    "if __name__==\"__main__\":\n",
    "    main()\n"
   ]
  },
  {
   "cell_type": "code",
   "execution_count": 25,
   "id": "51a89391",
   "metadata": {},
   "outputs": [],
   "source": [
    "class Employee:\n",
    "    \n",
    "    def __init__(self,name,age):\n",
    "        print(\"Initialization method called\")\n",
    "        self.name=name\n",
    "        self.age=age\n",
    "        \n",
    "    def getdata(self,name,age):\n",
    "        print(\"Getdata method called\")\n",
    "        self.name=name\n",
    "        self.age=age\n",
    "        \n",
    "    def display_data(self):\n",
    "        print(\"Name=\",self.name,\"Age=\",self.age)\n",
    "        \n",
    "        "
   ]
  },
  {
   "cell_type": "code",
   "execution_count": 26,
   "id": "99cc9889",
   "metadata": {},
   "outputs": [],
   "source": [
    "def main():\n",
    "    e1=Employee(\"John\",34)\n",
    "    e1.display_data()\n",
    "    \n",
    "    e1.getdata(\"Jack\",78)\n",
    "    e1.display_data()"
   ]
  },
  {
   "cell_type": "code",
   "execution_count": 27,
   "id": "b28ccb79",
   "metadata": {},
   "outputs": [
    {
     "name": "stdout",
     "output_type": "stream",
     "text": [
      "Initialization method called\n",
      "Name= John Age= 34\n",
      "Getdata method called\n",
      "Name= Jack Age= 78\n"
     ]
    }
   ],
   "source": [
    "if __name__==\"__main__\":\n",
    "    main()"
   ]
  },
  {
   "cell_type": "code",
   "execution_count": 28,
   "id": "49ee0d0e",
   "metadata": {},
   "outputs": [],
   "source": [
    "class player:\n",
    "    \n",
    "    def __init__(self,name,age,sport):\n",
    "        self.name=name\n",
    "        self.age=age\n",
    "        self.sport=sport\n",
    "        \n",
    "    def getdata(self,name,age,sport):\n",
    "        self.name=name\n",
    "        self.age=age\n",
    "        self.sport=sport\n",
    "        \n",
    "    def display_data(self):\n",
    "        print(\"Name=\",self.name,\"Age=\",self.age,\"Sport=\",self.sport)\n",
    "        "
   ]
  },
  {
   "cell_type": "code",
   "execution_count": 29,
   "id": "e5de2e70",
   "metadata": {},
   "outputs": [],
   "source": [
    "def main():\n",
    "    p1=player(\"John\",32,\"Carrom\")\n",
    "    p1.display_data()\n",
    "    \n",
    "    p1.getdata(\"Jack\",23,\"Badminton\")\n",
    "    p1.display_data()"
   ]
  },
  {
   "cell_type": "code",
   "execution_count": 31,
   "id": "8c4367ca",
   "metadata": {},
   "outputs": [
    {
     "name": "stdout",
     "output_type": "stream",
     "text": [
      "Name= John Age= 32 Sport= Carrom\n",
      "Name= Jack Age= 23 Sport= Badminton\n"
     ]
    }
   ],
   "source": [
    "if __name__==\"__main__\":\n",
    "    main()"
   ]
  },
  {
   "cell_type": "code",
   "execution_count": null,
   "id": "2517bb61",
   "metadata": {},
   "outputs": [],
   "source": []
  }
 ],
 "metadata": {
  "kernelspec": {
   "display_name": "Python 3 (ipykernel)",
   "language": "python",
   "name": "python3"
  },
  "language_info": {
   "codemirror_mode": {
    "name": "ipython",
    "version": 3
   },
   "file_extension": ".py",
   "mimetype": "text/x-python",
   "name": "python",
   "nbconvert_exporter": "python",
   "pygments_lexer": "ipython3",
   "version": "3.9.7"
  }
 },
 "nbformat": 4,
 "nbformat_minor": 5
}
