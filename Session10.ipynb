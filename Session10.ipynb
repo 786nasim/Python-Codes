{
 "cells": [
  {
   "cell_type": "code",
   "execution_count": 1,
   "id": "a64f127a",
   "metadata": {},
   "outputs": [],
   "source": [
    "list1=[45,34,23,56,78]\n",
    "\n",
    "def myfunc(list1):\n",
    "    for i in list1:\n",
    "        print(i)"
   ]
  },
  {
   "cell_type": "code",
   "execution_count": 2,
   "id": "42488c0c",
   "metadata": {},
   "outputs": [
    {
     "name": "stdout",
     "output_type": "stream",
     "text": [
      "45\n",
      "34\n",
      "23\n",
      "56\n",
      "78\n"
     ]
    }
   ],
   "source": [
    "myfunc(list1)"
   ]
  },
  {
   "cell_type": "code",
   "execution_count": 4,
   "id": "2c5bf478",
   "metadata": {},
   "outputs": [],
   "source": [
    "def myfunc2(fruitlist):\n",
    "    for i in fruitlist:\n",
    "        print(i)"
   ]
  },
  {
   "cell_type": "code",
   "execution_count": 5,
   "id": "4ad87ce7",
   "metadata": {},
   "outputs": [
    {
     "name": "stdout",
     "output_type": "stream",
     "text": [
      "Mango\n",
      "Apple\n",
      "Kiwi\n",
      "Grapes\n",
      "Orange\n"
     ]
    }
   ],
   "source": [
    "fruitlist=['Mango','Apple','Kiwi','Grapes','Orange']\n",
    "\n",
    "myfunc2(fruitlist)"
   ]
  },
  {
   "cell_type": "code",
   "execution_count": 6,
   "id": "e4d3509b",
   "metadata": {},
   "outputs": [
    {
     "name": "stdout",
     "output_type": "stream",
     "text": [
      "Apple\n",
      "Mango\n",
      "Kiwi\n",
      "Grapes\n",
      "Orange\n"
     ]
    }
   ],
   "source": [
    "myfunc2(['Apple','Mango','Kiwi','Grapes','Orange'])"
   ]
  },
  {
   "cell_type": "code",
   "execution_count": 7,
   "id": "a3b13a37",
   "metadata": {},
   "outputs": [],
   "source": [
    "def myfunc3(planetlist):\n",
    "    for i in planetlist:\n",
    "        print(i)"
   ]
  },
  {
   "cell_type": "code",
   "execution_count": 9,
   "id": "a9893cc7",
   "metadata": {},
   "outputs": [
    {
     "name": "stdout",
     "output_type": "stream",
     "text": [
      "Mercury\n",
      "Venus\n",
      "Pluto\n",
      "Jupyter\n",
      "Neptune\n"
     ]
    }
   ],
   "source": [
    "planetlist=['Mercury','Venus','Pluto','Jupyter','Neptune']\n",
    "\n",
    "myfunc3(planetlist)"
   ]
  },
  {
   "cell_type": "code",
   "execution_count": 14,
   "id": "adffafe2",
   "metadata": {},
   "outputs": [],
   "source": [
    "def myfunc4():\n",
    "    for i in range(2,21,2):\n",
    "        print(i)"
   ]
  },
  {
   "cell_type": "code",
   "execution_count": 15,
   "id": "6d80831c",
   "metadata": {},
   "outputs": [
    {
     "name": "stdout",
     "output_type": "stream",
     "text": [
      "2\n",
      "4\n",
      "6\n",
      "8\n",
      "10\n",
      "12\n",
      "14\n",
      "16\n",
      "18\n",
      "20\n"
     ]
    }
   ],
   "source": [
    "myfunc4()"
   ]
  },
  {
   "cell_type": "code",
   "execution_count": 26,
   "id": "f2d780cd",
   "metadata": {},
   "outputs": [],
   "source": [
    "def testfunc():\n",
    "    for i in range(10):\n",
    "        if(i==5):\n",
    "            return \n",
    "        print(i)"
   ]
  },
  {
   "cell_type": "code",
   "execution_count": 27,
   "id": "05583fe6",
   "metadata": {
    "scrolled": true
   },
   "outputs": [
    {
     "name": "stdout",
     "output_type": "stream",
     "text": [
      "0\n",
      "1\n",
      "2\n",
      "3\n",
      "4\n"
     ]
    }
   ],
   "source": [
    "testfunc()"
   ]
  },
  {
   "cell_type": "code",
   "execution_count": 28,
   "id": "c43025f5",
   "metadata": {},
   "outputs": [],
   "source": [
    "def innerfunction():\n",
    "    print(\"we are in inner function\")"
   ]
  },
  {
   "cell_type": "code",
   "execution_count": 33,
   "id": "6a5a3f7f",
   "metadata": {},
   "outputs": [],
   "source": [
    "def outerfunction():\n",
    "    innerfunction()\n",
    "    testfunc()\n",
    "    print(\"Outer function\")"
   ]
  },
  {
   "cell_type": "code",
   "execution_count": 34,
   "id": "97e3f544",
   "metadata": {},
   "outputs": [
    {
     "name": "stdout",
     "output_type": "stream",
     "text": [
      "we are in inner function\n",
      "0\n",
      "1\n",
      "2\n",
      "3\n",
      "4\n",
      "Outer function\n"
     ]
    }
   ],
   "source": [
    "outerfunction()"
   ]
  },
  {
   "cell_type": "markdown",
   "id": "8d96ae30",
   "metadata": {},
   "source": [
    "local variable"
   ]
  },
  {
   "cell_type": "code",
   "execution_count": 36,
   "id": "5d8b2e9e",
   "metadata": {},
   "outputs": [],
   "source": [
    "def squareof():\n",
    "    s=7*7\n",
    "    return s\n"
   ]
  },
  {
   "cell_type": "code",
   "execution_count": 37,
   "id": "d33c1fe8",
   "metadata": {},
   "outputs": [],
   "source": [
    "mysq=squareof()"
   ]
  },
  {
   "cell_type": "code",
   "execution_count": 38,
   "id": "d3d6cb7f",
   "metadata": {},
   "outputs": [
    {
     "data": {
      "text/plain": [
       "49"
      ]
     },
     "execution_count": 38,
     "metadata": {},
     "output_type": "execute_result"
    }
   ],
   "source": [
    "mysq"
   ]
  },
  {
   "cell_type": "code",
   "execution_count": 39,
   "id": "5481d1bc",
   "metadata": {},
   "outputs": [
    {
     "ename": "NameError",
     "evalue": "name 's' is not defined",
     "output_type": "error",
     "traceback": [
      "\u001b[1;31m---------------------------------------------------------------------------\u001b[0m",
      "\u001b[1;31mNameError\u001b[0m                                 Traceback (most recent call last)",
      "\u001b[1;32m~\\AppData\\Local\\Temp/ipykernel_996/1028141915.py\u001b[0m in \u001b[0;36m<module>\u001b[1;34m\u001b[0m\n\u001b[1;32m----> 1\u001b[1;33m \u001b[0ms\u001b[0m\u001b[1;33m\u001b[0m\u001b[1;33m\u001b[0m\u001b[0m\n\u001b[0m",
      "\u001b[1;31mNameError\u001b[0m: name 's' is not defined"
     ]
    }
   ],
   "source": [
    "s #s is a local variabe"
   ]
  },
  {
   "cell_type": "code",
   "execution_count": 40,
   "id": "dba0eba6",
   "metadata": {},
   "outputs": [
    {
     "data": {
      "text/plain": [
       "49"
      ]
     },
     "execution_count": 40,
     "metadata": {},
     "output_type": "execute_result"
    }
   ],
   "source": [
    "mysq    #global variable"
   ]
  },
  {
   "cell_type": "code",
   "execution_count": 41,
   "id": "155d8b83",
   "metadata": {},
   "outputs": [],
   "source": [
    "p=900"
   ]
  },
  {
   "cell_type": "code",
   "execution_count": 42,
   "id": "7fb5f511",
   "metadata": {},
   "outputs": [
    {
     "data": {
      "text/plain": [
       "900"
      ]
     },
     "execution_count": 42,
     "metadata": {},
     "output_type": "execute_result"
    }
   ],
   "source": [
    "p"
   ]
  },
  {
   "cell_type": "code",
   "execution_count": 43,
   "id": "cbb41451",
   "metadata": {},
   "outputs": [],
   "source": [
    "def testvar():\n",
    "    global p   #global is declared to access global variables\n",
    "    print(p)\n",
    "    p=78\n",
    "    print(p)\n"
   ]
  },
  {
   "cell_type": "code",
   "execution_count": 44,
   "id": "ff75922b",
   "metadata": {},
   "outputs": [
    {
     "name": "stdout",
     "output_type": "stream",
     "text": [
      "900\n",
      "78\n"
     ]
    }
   ],
   "source": [
    "testvar()"
   ]
  },
  {
   "cell_type": "code",
   "execution_count": 46,
   "id": "dbfcb084",
   "metadata": {},
   "outputs": [],
   "source": [
    "def add(a,b):\n",
    "    result=a+b\n",
    "    print(result)\n"
   ]
  },
  {
   "cell_type": "code",
   "execution_count": 48,
   "id": "e091c154",
   "metadata": {},
   "outputs": [
    {
     "name": "stdout",
     "output_type": "stream",
     "text": [
      "22\n"
     ]
    }
   ],
   "source": [
    "add(10,12)"
   ]
  },
  {
   "cell_type": "code",
   "execution_count": 49,
   "id": "884792d9",
   "metadata": {},
   "outputs": [],
   "source": [
    "def add1(a,b,c):\n",
    "    result=a+b+c\n",
    "    print(\"Result=\",result)\n"
   ]
  },
  {
   "cell_type": "code",
   "execution_count": 50,
   "id": "9d0c58b9",
   "metadata": {},
   "outputs": [
    {
     "name": "stdout",
     "output_type": "stream",
     "text": [
      "Result= 135\n"
     ]
    }
   ],
   "source": [
    "add1(23,45,67)"
   ]
  },
  {
   "cell_type": "markdown",
   "id": "f44410ea",
   "metadata": {},
   "source": [
    "Variable Number of Arguments"
   ]
  },
  {
   "cell_type": "code",
   "execution_count": 51,
   "id": "21df9661",
   "metadata": {},
   "outputs": [],
   "source": [
    "def plusfunc(*args):\n",
    "    return sum(args)"
   ]
  },
  {
   "cell_type": "code",
   "execution_count": 52,
   "id": "785fe813",
   "metadata": {},
   "outputs": [
    {
     "data": {
      "text/plain": [
       "80"
      ]
     },
     "execution_count": 52,
     "metadata": {},
     "output_type": "execute_result"
    }
   ],
   "source": [
    "plusfunc(12,23,45)"
   ]
  },
  {
   "cell_type": "code",
   "execution_count": 53,
   "id": "742a2406",
   "metadata": {},
   "outputs": [
    {
     "data": {
      "text/plain": [
       "77"
      ]
     },
     "execution_count": 53,
     "metadata": {},
     "output_type": "execute_result"
    }
   ],
   "source": [
    "plusfunc(12,23,13,14,15)"
   ]
  },
  {
   "cell_type": "code",
   "execution_count": 54,
   "id": "c387aa67",
   "metadata": {},
   "outputs": [],
   "source": [
    "def maxfunc(*s):\n",
    "    return max(s)"
   ]
  },
  {
   "cell_type": "code",
   "execution_count": 55,
   "id": "aa574fba",
   "metadata": {},
   "outputs": [
    {
     "data": {
      "text/plain": [
       "34"
      ]
     },
     "execution_count": 55,
     "metadata": {},
     "output_type": "execute_result"
    }
   ],
   "source": [
    "maxfunc(12,23,34)"
   ]
  },
  {
   "cell_type": "code",
   "execution_count": 56,
   "id": "977e04b4",
   "metadata": {},
   "outputs": [
    {
     "data": {
      "text/plain": [
       "390"
      ]
     },
     "execution_count": 56,
     "metadata": {},
     "output_type": "execute_result"
    }
   ],
   "source": [
    "maxfunc(34,45,78,89,90,390)"
   ]
  },
  {
   "cell_type": "code",
   "execution_count": 57,
   "id": "f65b63d4",
   "metadata": {},
   "outputs": [],
   "source": [
    "def sumfunc(*n):\n",
    "    s=0\n",
    "    for i in n:\n",
    "        s+=i   #s=s+i\n",
    "    return s"
   ]
  },
  {
   "cell_type": "code",
   "execution_count": 58,
   "id": "095cffe9",
   "metadata": {},
   "outputs": [
    {
     "name": "stdout",
     "output_type": "stream",
     "text": [
      "13\n"
     ]
    }
   ],
   "source": [
    "print(sumfunc(12,1))"
   ]
  },
  {
   "cell_type": "code",
   "execution_count": 60,
   "id": "dcf80e8c",
   "metadata": {},
   "outputs": [
    {
     "name": "stdout",
     "output_type": "stream",
     "text": [
      "9\n"
     ]
    }
   ],
   "source": [
    "print(sumfunc(1,5,2,1))"
   ]
  },
  {
   "cell_type": "markdown",
   "id": "f7af2fa6",
   "metadata": {},
   "source": [
    "# LAMBDA functions"
   ]
  },
  {
   "cell_type": "code",
   "execution_count": 61,
   "id": "b23bb6e0",
   "metadata": {},
   "outputs": [
    {
     "data": {
      "text/plain": [
       "10"
      ]
     },
     "execution_count": 61,
     "metadata": {},
     "output_type": "execute_result"
    }
   ],
   "source": [
    "test=lambda x:x*2\n",
    "test(5)"
   ]
  },
  {
   "cell_type": "code",
   "execution_count": 62,
   "id": "5bc061bf",
   "metadata": {},
   "outputs": [
    {
     "data": {
      "text/plain": [
       "18"
      ]
     },
     "execution_count": 62,
     "metadata": {},
     "output_type": "execute_result"
    }
   ],
   "source": [
    "test(9)"
   ]
  },
  {
   "cell_type": "code",
   "execution_count": 63,
   "id": "7f4f063a",
   "metadata": {},
   "outputs": [
    {
     "data": {
      "text/plain": [
       "27"
      ]
     },
     "execution_count": 63,
     "metadata": {},
     "output_type": "execute_result"
    }
   ],
   "source": [
    "testadd=lambda a,b:a+b\n",
    "testadd(12,15)"
   ]
  },
  {
   "cell_type": "code",
   "execution_count": 64,
   "id": "d9326417",
   "metadata": {},
   "outputs": [
    {
     "data": {
      "text/plain": [
       "15"
      ]
     },
     "execution_count": 64,
     "metadata": {},
     "output_type": "execute_result"
    }
   ],
   "source": [
    "m=lambda a,b,c:a+b+c\n",
    "m(12,1,2)"
   ]
  },
  {
   "cell_type": "code",
   "execution_count": 65,
   "id": "919279c2",
   "metadata": {},
   "outputs": [
    {
     "data": {
      "text/plain": [
       "16"
      ]
     },
     "execution_count": 65,
     "metadata": {},
     "output_type": "execute_result"
    }
   ],
   "source": [
    "square=lambda x:x**2\n",
    "\n",
    "square(4)"
   ]
  },
  {
   "cell_type": "code",
   "execution_count": 66,
   "id": "5be68349",
   "metadata": {},
   "outputs": [
    {
     "data": {
      "text/plain": [
       "2.0"
      ]
     },
     "execution_count": 66,
     "metadata": {},
     "output_type": "execute_result"
    }
   ],
   "source": [
    "#to find squareroot\n",
    "\n",
    "sqroot=lambda x:x**(1/2)\n",
    "sqroot(4)"
   ]
  },
  {
   "cell_type": "code",
   "execution_count": 67,
   "id": "d69d6d77",
   "metadata": {},
   "outputs": [
    {
     "data": {
      "text/plain": [
       "27"
      ]
     },
     "execution_count": 67,
     "metadata": {},
     "output_type": "execute_result"
    }
   ],
   "source": [
    "#find cube\n",
    "cube=lambda x:x**3\n",
    "cube(3)"
   ]
  },
  {
   "cell_type": "code",
   "execution_count": 68,
   "id": "4d24d564",
   "metadata": {},
   "outputs": [
    {
     "data": {
      "text/plain": [
       "45"
      ]
     },
     "execution_count": 68,
     "metadata": {},
     "output_type": "execute_result"
    }
   ],
   "source": [
    "#to find large number\n",
    "f=lambda a,b,c:max(a,b,c)\n",
    "f(12,45,14)"
   ]
  },
  {
   "cell_type": "code",
   "execution_count": 69,
   "id": "045f6409",
   "metadata": {},
   "outputs": [
    {
     "data": {
      "text/plain": [
       "3.0"
      ]
     },
     "execution_count": 69,
     "metadata": {},
     "output_type": "execute_result"
    }
   ],
   "source": [
    "#find cuberoot\n",
    "\n",
    "cube=lambda x:x**(1/3)\n",
    "cube(27)"
   ]
  },
  {
   "cell_type": "code",
   "execution_count": 70,
   "id": "750b56e9",
   "metadata": {},
   "outputs": [
    {
     "data": {
      "text/plain": [
       "2"
      ]
     },
     "execution_count": 70,
     "metadata": {},
     "output_type": "execute_result"
    }
   ],
   "source": [
    "#to find small number\n",
    "s=lambda a,b,c:min(a,b,c)\n",
    "s(12,2,34)"
   ]
  },
  {
   "cell_type": "code",
   "execution_count": 71,
   "id": "72129b72",
   "metadata": {},
   "outputs": [
    {
     "name": "stdout",
     "output_type": "stream",
     "text": [
      "Value of total= 22\n",
      "Value of total= 26\n"
     ]
    }
   ],
   "source": [
    "addvar=lambda arg1,arg2:arg1+arg2\n",
    "\n",
    "#Now you can call sum as a function\n",
    "print(\"Value of total=\",addvar(12,10))\n",
    "\n",
    "print(\"Value of total=\",addvar(3,23))"
   ]
  },
  {
   "cell_type": "code",
   "execution_count": null,
   "id": "1f269c53",
   "metadata": {},
   "outputs": [],
   "source": []
  }
 ],
 "metadata": {
  "kernelspec": {
   "display_name": "Python 3 (ipykernel)",
   "language": "python",
   "name": "python3"
  },
  "language_info": {
   "codemirror_mode": {
    "name": "ipython",
    "version": 3
   },
   "file_extension": ".py",
   "mimetype": "text/x-python",
   "name": "python",
   "nbconvert_exporter": "python",
   "pygments_lexer": "ipython3",
   "version": "3.9.7"
  }
 },
 "nbformat": 4,
 "nbformat_minor": 5
}
