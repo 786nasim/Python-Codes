{
 "cells": [
  {
   "cell_type": "markdown",
   "id": "c355c360",
   "metadata": {},
   "source": [
    "# Data Structures"
   ]
  },
  {
   "cell_type": "markdown",
   "id": "52584206",
   "metadata": {},
   "source": [
    "List"
   ]
  },
  {
   "cell_type": "code",
   "execution_count": 5,
   "id": "a3acdf1e",
   "metadata": {},
   "outputs": [],
   "source": [
    "list1=[11,12,13,14,15]"
   ]
  },
  {
   "cell_type": "code",
   "execution_count": 6,
   "id": "04f295c4",
   "metadata": {},
   "outputs": [
    {
     "data": {
      "text/plain": [
       "[11, 12, 13, 14, 15]"
      ]
     },
     "execution_count": 6,
     "metadata": {},
     "output_type": "execute_result"
    }
   ],
   "source": [
    "list1"
   ]
  },
  {
   "cell_type": "code",
   "execution_count": 7,
   "id": "6c121d37",
   "metadata": {},
   "outputs": [],
   "source": [
    "list1.append(16)"
   ]
  },
  {
   "cell_type": "code",
   "execution_count": 8,
   "id": "106f1d87",
   "metadata": {},
   "outputs": [
    {
     "data": {
      "text/plain": [
       "[11, 12, 13, 14, 15, 16]"
      ]
     },
     "execution_count": 8,
     "metadata": {},
     "output_type": "execute_result"
    }
   ],
   "source": [
    "list1"
   ]
  },
  {
   "cell_type": "code",
   "execution_count": 29,
   "id": "ca1d8a01",
   "metadata": {},
   "outputs": [],
   "source": [
    "#append()means to add the data at the end\n",
    "\n",
    "list1.append(17)"
   ]
  },
  {
   "cell_type": "code",
   "execution_count": 30,
   "id": "72dc02be",
   "metadata": {},
   "outputs": [
    {
     "data": {
      "text/plain": [
       "[11, 12, 900, 13, 14, 15, 16, 17, 17, 17]"
      ]
     },
     "execution_count": 30,
     "metadata": {},
     "output_type": "execute_result"
    }
   ],
   "source": [
    "list1"
   ]
  },
  {
   "cell_type": "code",
   "execution_count": 27,
   "id": "cfa601b7",
   "metadata": {},
   "outputs": [],
   "source": [
    "list1.insert(2,900)"
   ]
  },
  {
   "cell_type": "code",
   "execution_count": 28,
   "id": "e333cb32",
   "metadata": {},
   "outputs": [
    {
     "data": {
      "text/plain": [
       "[11, 12, 900, 13, 14, 15, 16, 17, 17]"
      ]
     },
     "execution_count": 28,
     "metadata": {},
     "output_type": "execute_result"
    }
   ],
   "source": [
    "list1"
   ]
  },
  {
   "cell_type": "code",
   "execution_count": 12,
   "id": "3b60c242",
   "metadata": {},
   "outputs": [],
   "source": [
    "listfruit=[\"Grapes\",\"Banana\",\"Apple\",\"Mango\"]"
   ]
  },
  {
   "cell_type": "code",
   "execution_count": 14,
   "id": "10b57e79",
   "metadata": {},
   "outputs": [
    {
     "data": {
      "text/plain": [
       "['Grapes', 'Banana', 'Apple', 'Mango']"
      ]
     },
     "execution_count": 14,
     "metadata": {},
     "output_type": "execute_result"
    }
   ],
   "source": [
    "listfruit"
   ]
  },
  {
   "cell_type": "code",
   "execution_count": 15,
   "id": "ee93b13f",
   "metadata": {},
   "outputs": [],
   "source": [
    "listfruit.append(\"Papaya\")"
   ]
  },
  {
   "cell_type": "code",
   "execution_count": 16,
   "id": "4bcd08e6",
   "metadata": {},
   "outputs": [
    {
     "data": {
      "text/plain": [
       "['Grapes', 'Banana', 'Apple', 'Mango', 'Papaya']"
      ]
     },
     "execution_count": 16,
     "metadata": {},
     "output_type": "execute_result"
    }
   ],
   "source": [
    "listfruit"
   ]
  },
  {
   "cell_type": "code",
   "execution_count": 17,
   "id": "229033b4",
   "metadata": {},
   "outputs": [
    {
     "data": {
      "text/plain": [
       "5"
      ]
     },
     "execution_count": 17,
     "metadata": {},
     "output_type": "execute_result"
    }
   ],
   "source": [
    "len(listfruit)"
   ]
  },
  {
   "cell_type": "code",
   "execution_count": 18,
   "id": "fe462f80",
   "metadata": {},
   "outputs": [
    {
     "data": {
      "text/plain": [
       "'Grapes'"
      ]
     },
     "execution_count": 18,
     "metadata": {},
     "output_type": "execute_result"
    }
   ],
   "source": [
    "listfruit[0]"
   ]
  },
  {
   "cell_type": "code",
   "execution_count": 19,
   "id": "5281b3bc",
   "metadata": {},
   "outputs": [
    {
     "data": {
      "text/plain": [
       "'Banana'"
      ]
     },
     "execution_count": 19,
     "metadata": {},
     "output_type": "execute_result"
    }
   ],
   "source": [
    "listfruit[1]"
   ]
  },
  {
   "cell_type": "code",
   "execution_count": 20,
   "id": "a53803c1",
   "metadata": {},
   "outputs": [
    {
     "data": {
      "text/plain": [
       "'Apple'"
      ]
     },
     "execution_count": 20,
     "metadata": {},
     "output_type": "execute_result"
    }
   ],
   "source": [
    "listfruit[2]"
   ]
  },
  {
   "cell_type": "code",
   "execution_count": 21,
   "id": "05072b47",
   "metadata": {},
   "outputs": [
    {
     "data": {
      "text/plain": [
       "['Grapes', 'Banana']"
      ]
     },
     "execution_count": 21,
     "metadata": {},
     "output_type": "execute_result"
    }
   ],
   "source": [
    "listfruit[0:2]"
   ]
  },
  {
   "cell_type": "code",
   "execution_count": 22,
   "id": "b5f98dd8",
   "metadata": {},
   "outputs": [
    {
     "data": {
      "text/plain": [
       "['Banana', 'Apple', 'Mango']"
      ]
     },
     "execution_count": 22,
     "metadata": {},
     "output_type": "execute_result"
    }
   ],
   "source": [
    "listfruit[1:4]"
   ]
  },
  {
   "cell_type": "code",
   "execution_count": 23,
   "id": "e99d9d87",
   "metadata": {},
   "outputs": [
    {
     "data": {
      "text/plain": [
       "'Papaya'"
      ]
     },
     "execution_count": 23,
     "metadata": {},
     "output_type": "execute_result"
    }
   ],
   "source": [
    "listfruit[-1]"
   ]
  },
  {
   "cell_type": "code",
   "execution_count": 24,
   "id": "1f5a68fa",
   "metadata": {},
   "outputs": [
    {
     "data": {
      "text/plain": [
       "['Grapes', 'Banana', 'Apple', 'Mango', 'Papaya']"
      ]
     },
     "execution_count": 24,
     "metadata": {},
     "output_type": "execute_result"
    }
   ],
   "source": [
    "listfruit"
   ]
  },
  {
   "cell_type": "code",
   "execution_count": 25,
   "id": "1b1bd407",
   "metadata": {},
   "outputs": [],
   "source": [
    "listfruit.insert(1,\"Watermelon\")"
   ]
  },
  {
   "cell_type": "code",
   "execution_count": 26,
   "id": "ef3f2770",
   "metadata": {},
   "outputs": [
    {
     "data": {
      "text/plain": [
       "['Grapes', 'Watermelon', 'Banana', 'Apple', 'Mango', 'Papaya']"
      ]
     },
     "execution_count": 26,
     "metadata": {},
     "output_type": "execute_result"
    }
   ],
   "source": [
    "listfruit"
   ]
  },
  {
   "cell_type": "code",
   "execution_count": 31,
   "id": "9affbe20",
   "metadata": {},
   "outputs": [
    {
     "data": {
      "text/plain": [
       "6"
      ]
     },
     "execution_count": 31,
     "metadata": {},
     "output_type": "execute_result"
    }
   ],
   "source": [
    "len(listfruit)"
   ]
  },
  {
   "cell_type": "code",
   "execution_count": 32,
   "id": "8f42e148",
   "metadata": {},
   "outputs": [],
   "source": [
    "#sort() for ascending order\n",
    "listfruit.sort()\n"
   ]
  },
  {
   "cell_type": "code",
   "execution_count": 34,
   "id": "b4f7b231",
   "metadata": {},
   "outputs": [
    {
     "data": {
      "text/plain": [
       "['Apple', 'Banana', 'Grapes', 'Mango', 'Papaya', 'Watermelon']"
      ]
     },
     "execution_count": 34,
     "metadata": {},
     "output_type": "execute_result"
    }
   ],
   "source": [
    "listfruit"
   ]
  },
  {
   "cell_type": "code",
   "execution_count": 35,
   "id": "8b1a3d46",
   "metadata": {},
   "outputs": [],
   "source": [
    "#reverse() is for descending order\n",
    "listfruit.reverse()"
   ]
  },
  {
   "cell_type": "code",
   "execution_count": 36,
   "id": "271f19c7",
   "metadata": {},
   "outputs": [
    {
     "data": {
      "text/plain": [
       "['Watermelon', 'Papaya', 'Mango', 'Grapes', 'Banana', 'Apple']"
      ]
     },
     "execution_count": 36,
     "metadata": {},
     "output_type": "execute_result"
    }
   ],
   "source": [
    "listfruit"
   ]
  },
  {
   "cell_type": "code",
   "execution_count": 37,
   "id": "afa29da8",
   "metadata": {},
   "outputs": [
    {
     "data": {
      "text/plain": [
       "1"
      ]
     },
     "execution_count": 37,
     "metadata": {},
     "output_type": "execute_result"
    }
   ],
   "source": [
    "listfruit.index('Papaya')"
   ]
  },
  {
   "cell_type": "code",
   "execution_count": 38,
   "id": "f830f8ce",
   "metadata": {},
   "outputs": [
    {
     "data": {
      "text/plain": [
       "3"
      ]
     },
     "execution_count": 38,
     "metadata": {},
     "output_type": "execute_result"
    }
   ],
   "source": [
    "listfruit.index('Grapes')"
   ]
  },
  {
   "cell_type": "code",
   "execution_count": 39,
   "id": "9f571560",
   "metadata": {},
   "outputs": [],
   "source": [
    "newlist=[\"Lemon\",\"Dragonfruit\"]"
   ]
  },
  {
   "cell_type": "code",
   "execution_count": 40,
   "id": "75e50075",
   "metadata": {},
   "outputs": [
    {
     "data": {
      "text/plain": [
       "['Lemon', 'Dragonfruit']"
      ]
     },
     "execution_count": 40,
     "metadata": {},
     "output_type": "execute_result"
    }
   ],
   "source": [
    "newlist"
   ]
  },
  {
   "cell_type": "code",
   "execution_count": 41,
   "id": "9a2075f1",
   "metadata": {},
   "outputs": [],
   "source": [
    "listfruit.extend(newlist)"
   ]
  },
  {
   "cell_type": "code",
   "execution_count": 42,
   "id": "7b55a832",
   "metadata": {},
   "outputs": [
    {
     "data": {
      "text/plain": [
       "['Watermelon',\n",
       " 'Papaya',\n",
       " 'Mango',\n",
       " 'Grapes',\n",
       " 'Banana',\n",
       " 'Apple',\n",
       " 'Lemon',\n",
       " 'Dragonfruit']"
      ]
     },
     "execution_count": 42,
     "metadata": {},
     "output_type": "execute_result"
    }
   ],
   "source": [
    "listfruit"
   ]
  },
  {
   "cell_type": "code",
   "execution_count": 44,
   "id": "a7f40abe",
   "metadata": {},
   "outputs": [],
   "source": [
    "listfruit.extend([\"kiwi\",'Strawberry'])"
   ]
  },
  {
   "cell_type": "code",
   "execution_count": 45,
   "id": "f5d5e5ee",
   "metadata": {},
   "outputs": [
    {
     "data": {
      "text/plain": [
       "['Watermelon',\n",
       " 'Papaya',\n",
       " 'Mango',\n",
       " 'Grapes',\n",
       " 'Banana',\n",
       " 'Apple',\n",
       " 'Lemon',\n",
       " 'Dragonfruit',\n",
       " 'kiwi',\n",
       " 'Strawberry']"
      ]
     },
     "execution_count": 45,
     "metadata": {},
     "output_type": "execute_result"
    }
   ],
   "source": [
    "listfruit"
   ]
  },
  {
   "cell_type": "code",
   "execution_count": 46,
   "id": "f15a9f79",
   "metadata": {},
   "outputs": [
    {
     "data": {
      "text/plain": [
       "10"
      ]
     },
     "execution_count": 46,
     "metadata": {},
     "output_type": "execute_result"
    }
   ],
   "source": [
    "len(listfruit)"
   ]
  },
  {
   "cell_type": "code",
   "execution_count": 47,
   "id": "93eb5c81",
   "metadata": {},
   "outputs": [
    {
     "data": {
      "text/plain": [
       "'Strawberry'"
      ]
     },
     "execution_count": 47,
     "metadata": {},
     "output_type": "execute_result"
    }
   ],
   "source": [
    "listfruit.pop()"
   ]
  },
  {
   "cell_type": "code",
   "execution_count": 48,
   "id": "1dc62234",
   "metadata": {},
   "outputs": [
    {
     "data": {
      "text/plain": [
       "'Banana'"
      ]
     },
     "execution_count": 48,
     "metadata": {},
     "output_type": "execute_result"
    }
   ],
   "source": [
    "listfruit.pop(4)"
   ]
  },
  {
   "cell_type": "code",
   "execution_count": 50,
   "id": "2ba997fa",
   "metadata": {},
   "outputs": [],
   "source": [
    "numlist=[100,200,300,400,500,600]"
   ]
  },
  {
   "cell_type": "code",
   "execution_count": 51,
   "id": "3050294d",
   "metadata": {},
   "outputs": [
    {
     "data": {
      "text/plain": [
       "600"
      ]
     },
     "execution_count": 51,
     "metadata": {},
     "output_type": "execute_result"
    }
   ],
   "source": [
    "numlist[5]"
   ]
  },
  {
   "cell_type": "code",
   "execution_count": 52,
   "id": "6b954cf9",
   "metadata": {},
   "outputs": [],
   "source": [
    "#Lists are mutable elements can be changed\n",
    "numlist[4]=345"
   ]
  },
  {
   "cell_type": "code",
   "execution_count": 53,
   "id": "356cfcb7",
   "metadata": {},
   "outputs": [
    {
     "data": {
      "text/plain": [
       "[100, 200, 300, 400, 345, 600]"
      ]
     },
     "execution_count": 53,
     "metadata": {},
     "output_type": "execute_result"
    }
   ],
   "source": [
    "numlist"
   ]
  },
  {
   "cell_type": "code",
   "execution_count": 54,
   "id": "eb6876a3",
   "metadata": {},
   "outputs": [],
   "source": [
    "planetlist=['Venus','Mercury','Saturn','Jupyter']"
   ]
  },
  {
   "cell_type": "code",
   "execution_count": 55,
   "id": "72b2ad78",
   "metadata": {},
   "outputs": [
    {
     "data": {
      "text/plain": [
       "['Venus', 'Mercury', 'Saturn', 'Jupyter']"
      ]
     },
     "execution_count": 55,
     "metadata": {},
     "output_type": "execute_result"
    }
   ],
   "source": [
    "planetlist"
   ]
  },
  {
   "cell_type": "code",
   "execution_count": 56,
   "id": "ce8299b2",
   "metadata": {},
   "outputs": [],
   "source": [
    "planetlist[2]='Pluto'"
   ]
  },
  {
   "cell_type": "code",
   "execution_count": 57,
   "id": "8ec3d583",
   "metadata": {},
   "outputs": [
    {
     "data": {
      "text/plain": [
       "['Venus', 'Mercury', 'Pluto', 'Jupyter']"
      ]
     },
     "execution_count": 57,
     "metadata": {},
     "output_type": "execute_result"
    }
   ],
   "source": [
    "planetlist"
   ]
  },
  {
   "cell_type": "code",
   "execution_count": 58,
   "id": "5af134b2",
   "metadata": {},
   "outputs": [],
   "source": [
    "planetlist.clear()"
   ]
  },
  {
   "cell_type": "code",
   "execution_count": 59,
   "id": "9b1b4a00",
   "metadata": {},
   "outputs": [
    {
     "data": {
      "text/plain": [
       "[]"
      ]
     },
     "execution_count": 59,
     "metadata": {},
     "output_type": "execute_result"
    }
   ],
   "source": [
    "planetlist"
   ]
  },
  {
   "cell_type": "code",
   "execution_count": null,
   "id": "8cb74bca",
   "metadata": {},
   "outputs": [],
   "source": []
  }
 ],
 "metadata": {
  "kernelspec": {
   "display_name": "Python 3 (ipykernel)",
   "language": "python",
   "name": "python3"
  },
  "language_info": {
   "codemirror_mode": {
    "name": "ipython",
    "version": 3
   },
   "file_extension": ".py",
   "mimetype": "text/x-python",
   "name": "python",
   "nbconvert_exporter": "python",
   "pygments_lexer": "ipython3",
   "version": "3.9.7"
  }
 },
 "nbformat": 4,
 "nbformat_minor": 5
}
