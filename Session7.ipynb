{
 "cells": [
  {
   "cell_type": "markdown",
   "id": "c794d2d5",
   "metadata": {},
   "source": [
    "Range Function in Python"
   ]
  },
  {
   "cell_type": "code",
   "execution_count": 1,
   "id": "9cebffdc",
   "metadata": {},
   "outputs": [
    {
     "data": {
      "text/plain": [
       "range(0, 5)"
      ]
     },
     "execution_count": 1,
     "metadata": {},
     "output_type": "execute_result"
    }
   ],
   "source": [
    "range(5)"
   ]
  },
  {
   "cell_type": "code",
   "execution_count": 2,
   "id": "71bd21c6",
   "metadata": {},
   "outputs": [
    {
     "data": {
      "text/plain": [
       "range(0, 7)"
      ]
     },
     "execution_count": 2,
     "metadata": {},
     "output_type": "execute_result"
    }
   ],
   "source": [
    "range(0,7)"
   ]
  },
  {
   "cell_type": "code",
   "execution_count": 3,
   "id": "1c0bb02d",
   "metadata": {},
   "outputs": [
    {
     "data": {
      "text/plain": [
       "range(0, 10)"
      ]
     },
     "execution_count": 3,
     "metadata": {},
     "output_type": "execute_result"
    }
   ],
   "source": [
    "range(10)"
   ]
  },
  {
   "cell_type": "code",
   "execution_count": 4,
   "id": "a0978bb3",
   "metadata": {},
   "outputs": [
    {
     "data": {
      "text/plain": [
       "[0, 1, 2, 3, 4]"
      ]
     },
     "execution_count": 4,
     "metadata": {},
     "output_type": "execute_result"
    }
   ],
   "source": [
    "list(range(5))"
   ]
  },
  {
   "cell_type": "code",
   "execution_count": 5,
   "id": "3fe2d97c",
   "metadata": {},
   "outputs": [
    {
     "data": {
      "text/plain": [
       "[0, 1, 2, 3, 4, 5, 6, 7, 8, 9]"
      ]
     },
     "execution_count": 5,
     "metadata": {},
     "output_type": "execute_result"
    }
   ],
   "source": [
    "list(range(0,10))"
   ]
  },
  {
   "cell_type": "code",
   "execution_count": 8,
   "id": "7c705ae5",
   "metadata": {},
   "outputs": [
    {
     "name": "stdout",
     "output_type": "stream",
     "text": [
      "0\n",
      "1\n",
      "2\n",
      "3\n",
      "4\n"
     ]
    }
   ],
   "source": [
    "for i in range(5):\n",
    "    print(i)"
   ]
  },
  {
   "cell_type": "code",
   "execution_count": 10,
   "id": "6621e676",
   "metadata": {},
   "outputs": [
    {
     "name": "stdout",
     "output_type": "stream",
     "text": [
      "0\n",
      "10\n",
      "20\n",
      "30\n",
      "40\n",
      "50\n",
      "60\n",
      "70\n",
      "80\n",
      "90\n"
     ]
    }
   ],
   "source": [
    "for i in range(10):\n",
    "    print(i*10)"
   ]
  },
  {
   "cell_type": "code",
   "execution_count": 11,
   "id": "fb65e7fb",
   "metadata": {},
   "outputs": [],
   "source": [
    "a=list(range(5))"
   ]
  },
  {
   "cell_type": "code",
   "execution_count": 12,
   "id": "cb084d3d",
   "metadata": {},
   "outputs": [
    {
     "data": {
      "text/plain": [
       "[0, 1, 2, 3, 4]"
      ]
     },
     "execution_count": 12,
     "metadata": {},
     "output_type": "execute_result"
    }
   ],
   "source": [
    "a"
   ]
  },
  {
   "cell_type": "code",
   "execution_count": 14,
   "id": "0e2d10b5",
   "metadata": {},
   "outputs": [
    {
     "name": "stdout",
     "output_type": "stream",
     "text": [
      "0 1 2 3 4 "
     ]
    }
   ],
   "source": [
    "for i in a:     #i is index and a is variable\n",
    "    print(i,end=\" \")"
   ]
  },
  {
   "cell_type": "code",
   "execution_count": 19,
   "id": "4b3137cc",
   "metadata": {},
   "outputs": [
    {
     "name": "stdout",
     "output_type": "stream",
     "text": [
      "0 1 2 3 4 5 6 7 8 9 "
     ]
    }
   ],
   "source": [
    "b=list(range(10))\n",
    "#print(b)\n",
    "for j in b:\n",
    "    print(j,end=' ')"
   ]
  },
  {
   "cell_type": "markdown",
   "id": "0b2edfb6",
   "metadata": {},
   "source": [
    "# IF Statement"
   ]
  },
  {
   "cell_type": "code",
   "execution_count": 26,
   "id": "99ad4f2a",
   "metadata": {},
   "outputs": [
    {
     "name": "stdout",
     "output_type": "stream",
     "text": [
      "Enter the Marks=20\n",
      "Failed\n",
      "RESULT DECLARED\n"
     ]
    }
   ],
   "source": [
    "marks=int(input(\"Enter the Marks=\"))\n",
    "if marks>50:\n",
    "    print(\"PASSED\")\n",
    "else:\n",
    "    print(\"Failed\")\n",
    "print(\"RESULT DECLARED\")"
   ]
  },
  {
   "cell_type": "code",
   "execution_count": 28,
   "id": "c4055a43",
   "metadata": {},
   "outputs": [
    {
     "name": "stdout",
     "output_type": "stream",
     "text": [
      "Enter the number=4\n",
      "4 Number is even\n"
     ]
    }
   ],
   "source": [
    "y=int(input('Enter the number='))\n",
    "\n",
    "if y%2==0:\n",
    "    print(y,\"Number is even\")\n",
    "else:\n",
    "    print(y,\"Number is odd\",)"
   ]
  },
  {
   "cell_type": "code",
   "execution_count": 30,
   "id": "c838c490",
   "metadata": {},
   "outputs": [
    {
     "name": "stdout",
     "output_type": "stream",
     "text": [
      "Enter the number=7\n",
      "7 Number is odd\n"
     ]
    }
   ],
   "source": [
    "x=int(input('Enter the number='))\n",
    "\n",
    "if x%2!=0:\n",
    "    print(x,\"Number is odd\")\n",
    "else:\n",
    "    print(x,\"Number is even\",)"
   ]
  },
  {
   "cell_type": "code",
   "execution_count": 31,
   "id": "86dffcac",
   "metadata": {},
   "outputs": [
    {
     "name": "stdout",
     "output_type": "stream",
     "text": [
      "Enter the number=7\n",
      "Value of k is 7 Odd Number\n",
      "The if construct end\n"
     ]
    }
   ],
   "source": [
    "k=int(input(\"Enter the number=\"))\n",
    "\n",
    "if k%2==0:\n",
    "    print(\"Value of k is\",k,\"Even Number\")\n",
    "else:\n",
    "    print(\"Value of k is\",k,\"Odd Number\")\n",
    "    \n",
    "print(\"The if construct end\")\n"
   ]
  },
  {
   "cell_type": "markdown",
   "id": "c4d119d1",
   "metadata": {},
   "source": [
    "IF-ELIF (if elseif)more condition"
   ]
  },
  {
   "cell_type": "code",
   "execution_count": 32,
   "id": "f19009a4",
   "metadata": {},
   "outputs": [
    {
     "name": "stdout",
     "output_type": "stream",
     "text": [
      "Enter any marks of student=85\n",
      "Very Good\n",
      "Result Declared\n"
     ]
    }
   ],
   "source": [
    "marks=int(input(\"Enter any marks of student=\"))\n",
    "\n",
    "if marks>=90:\n",
    "    print(\"Excellent\")\n",
    "elif marks>=80 and marks<90:\n",
    "    print(\"Very Good\")\n",
    "elif marks>=70 and marks<80:\n",
    "    print(\"Good\")\n",
    "elif marks>=60 and marks<70:\n",
    "    print(\"Average\")\n",
    "elif marks>=50 and marks<60:\n",
    "    print(\"Below Average\")\n",
    "else:\n",
    "    print(\"Poor\")\n",
    "    \n",
    "print(\"Result Declared\")"
   ]
  },
  {
   "cell_type": "markdown",
   "id": "45efaf27",
   "metadata": {},
   "source": [
    "break statement"
   ]
  },
  {
   "cell_type": "code",
   "execution_count": 37,
   "id": "481063dc",
   "metadata": {},
   "outputs": [
    {
     "name": "stdout",
     "output_type": "stream",
     "text": [
      "Apple\n",
      "Mango\n",
      "banana\n",
      "kiwi\n",
      "orange\n",
      "pear\n"
     ]
    }
   ],
   "source": [
    "for i in ['Apple','Mango','banana','kiwi','orange','pear']:\n",
    "    print(i)"
   ]
  },
  {
   "cell_type": "code",
   "execution_count": 36,
   "id": "496dce43",
   "metadata": {},
   "outputs": [
    {
     "name": "stdout",
     "output_type": "stream",
     "text": [
      "Apple\n",
      "Mango\n",
      "banana\n"
     ]
    }
   ],
   "source": [
    "for i in ['Apple','Mango','banana','kiwi','orange','pear']:\n",
    "    if i=='kiwi':\n",
    "        break  #break the loop\n",
    "    print(i)\n"
   ]
  },
  {
   "cell_type": "code",
   "execution_count": 38,
   "id": "bf3be17c",
   "metadata": {},
   "outputs": [
    {
     "name": "stdout",
     "output_type": "stream",
     "text": [
      "10\n",
      "20\n",
      "30\n"
     ]
    }
   ],
   "source": [
    "for j in [10,20,30,40,50,60]:\n",
    "    if j==40:\n",
    "        break\n",
    "    print(j)\n"
   ]
  },
  {
   "cell_type": "code",
   "execution_count": 39,
   "id": "3f932b2d",
   "metadata": {},
   "outputs": [
    {
     "name": "stdout",
     "output_type": "stream",
     "text": [
      "10\n",
      "20\n",
      "30\n",
      "50\n",
      "60\n"
     ]
    }
   ],
   "source": [
    "for j in [10,20,30,40,50,60]:\n",
    "    if j==40:\n",
    "        continue\n",
    "    print(j)\n"
   ]
  },
  {
   "cell_type": "code",
   "execution_count": 40,
   "id": "4028bd31",
   "metadata": {},
   "outputs": [
    {
     "name": "stdout",
     "output_type": "stream",
     "text": [
      "Apple\n",
      "Mango\n",
      "banana\n",
      "orange\n",
      "pear\n"
     ]
    }
   ],
   "source": [
    "for i in ['Apple','Mango','banana','kiwi','orange','pear']:\n",
    "    if i=='kiwi':\n",
    "        continue #continue the loop to next level\n",
    "    print(i)\n"
   ]
  },
  {
   "cell_type": "markdown",
   "id": "217f393f",
   "metadata": {},
   "source": [
    "Range function"
   ]
  },
  {
   "cell_type": "code",
   "execution_count": 41,
   "id": "bd1b9699",
   "metadata": {},
   "outputs": [
    {
     "data": {
      "text/plain": [
       "range(2, 10)"
      ]
     },
     "execution_count": 41,
     "metadata": {},
     "output_type": "execute_result"
    }
   ],
   "source": [
    "#range(start,end)\n",
    "\n",
    "range(2,10)"
   ]
  },
  {
   "cell_type": "code",
   "execution_count": 46,
   "id": "a865a1f1",
   "metadata": {},
   "outputs": [
    {
     "data": {
      "text/plain": [
       "[2, 3, 4, 5, 6, 7, 8, 9]"
      ]
     },
     "execution_count": 46,
     "metadata": {},
     "output_type": "execute_result"
    }
   ],
   "source": [
    "list(range(2,10))"
   ]
  },
  {
   "cell_type": "code",
   "execution_count": 47,
   "id": "b02fc1a5",
   "metadata": {},
   "outputs": [
    {
     "data": {
      "text/plain": [
       "[5, 6, 7, 8, 9, 10, 11, 12, 13, 14, 15, 16, 17, 18, 19, 20, 21, 22, 23, 24]"
      ]
     },
     "execution_count": 47,
     "metadata": {},
     "output_type": "execute_result"
    }
   ],
   "source": [
    "list(range(5,25))"
   ]
  },
  {
   "cell_type": "code",
   "execution_count": 48,
   "id": "8dad2234",
   "metadata": {},
   "outputs": [
    {
     "data": {
      "text/plain": [
       "[10, 11, 12, 13, 14, 15, 16, 17, 18, 19]"
      ]
     },
     "execution_count": 48,
     "metadata": {},
     "output_type": "execute_result"
    }
   ],
   "source": [
    "list(range(10,20))"
   ]
  },
  {
   "cell_type": "code",
   "execution_count": 51,
   "id": "8a626a1a",
   "metadata": {},
   "outputs": [
    {
     "name": "stdout",
     "output_type": "stream",
     "text": [
      "2 3 4 5 6 7 8 9 "
     ]
    }
   ],
   "source": [
    "for i in range(2,10):\n",
    "    print(i,end=' ')"
   ]
  },
  {
   "cell_type": "markdown",
   "id": "61bf0595",
   "metadata": {},
   "source": [
    "Jump statement"
   ]
  },
  {
   "cell_type": "code",
   "execution_count": 52,
   "id": "9cb85fa0",
   "metadata": {},
   "outputs": [
    {
     "data": {
      "text/plain": [
       "[2, 4, 6, 8, 10, 12, 14, 16, 18]"
      ]
     },
     "execution_count": 52,
     "metadata": {},
     "output_type": "execute_result"
    }
   ],
   "source": [
    "#It is used in jump range(start,end,jump)\n",
    "\n",
    "list(range(2,20,2))"
   ]
  },
  {
   "cell_type": "code",
   "execution_count": 53,
   "id": "07b6a610",
   "metadata": {},
   "outputs": [
    {
     "name": "stdout",
     "output_type": "stream",
     "text": [
      "0\n",
      "2\n",
      "4\n",
      "6\n",
      "8\n"
     ]
    }
   ],
   "source": [
    "for i in range(0,10,2):\n",
    "    print(i)"
   ]
  },
  {
   "cell_type": "code",
   "execution_count": null,
   "id": "57705dca",
   "metadata": {},
   "outputs": [],
   "source": []
  }
 ],
 "metadata": {
  "kernelspec": {
   "display_name": "Python 3 (ipykernel)",
   "language": "python",
   "name": "python3"
  },
  "language_info": {
   "codemirror_mode": {
    "name": "ipython",
    "version": 3
   },
   "file_extension": ".py",
   "mimetype": "text/x-python",
   "name": "python",
   "nbconvert_exporter": "python",
   "pygments_lexer": "ipython3",
   "version": "3.9.7"
  }
 },
 "nbformat": 4,
 "nbformat_minor": 5
}
