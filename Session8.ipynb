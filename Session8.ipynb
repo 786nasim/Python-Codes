{
 "cells": [
  {
   "cell_type": "markdown",
   "id": "d30be40c",
   "metadata": {},
   "source": [
    "# STRING FUNCTIONS"
   ]
  },
  {
   "cell_type": "code",
   "execution_count": 2,
   "id": "e02ff2b5",
   "metadata": {},
   "outputs": [
    {
     "data": {
      "text/plain": [
       "'MACHINE LEARNING'"
      ]
     },
     "execution_count": 2,
     "metadata": {},
     "output_type": "execute_result"
    }
   ],
   "source": [
    "a=\"machine learning\"\n",
    "a.upper()\n"
   ]
  },
  {
   "cell_type": "code",
   "execution_count": 3,
   "id": "038cffe6",
   "metadata": {},
   "outputs": [
    {
     "data": {
      "text/plain": [
       "'computer'"
      ]
     },
     "execution_count": 3,
     "metadata": {},
     "output_type": "execute_result"
    }
   ],
   "source": [
    "b=\"COMPUTER\"\n",
    "b.lower()"
   ]
  },
  {
   "cell_type": "code",
   "execution_count": 4,
   "id": "c13ac3af",
   "metadata": {},
   "outputs": [
    {
     "data": {
      "text/plain": [
       "'ArTIFICIAL InTELLIGENCE'"
      ]
     },
     "execution_count": 4,
     "metadata": {},
     "output_type": "execute_result"
    }
   ],
   "source": [
    "c='aRtificial iNtelligence'\n",
    "c.swapcase()"
   ]
  },
  {
   "cell_type": "code",
   "execution_count": 5,
   "id": "3ea74148",
   "metadata": {},
   "outputs": [
    {
     "data": {
      "text/plain": [
       "'Tesla'"
      ]
     },
     "execution_count": 5,
     "metadata": {},
     "output_type": "execute_result"
    }
   ],
   "source": [
    "d=\"tesla\"\n",
    "d.capitalize()"
   ]
  },
  {
   "cell_type": "code",
   "execution_count": 6,
   "id": "d7f65d48",
   "metadata": {},
   "outputs": [
    {
     "data": {
      "text/plain": [
       "'This Is An Artificial Intelligence'"
      ]
     },
     "execution_count": 6,
     "metadata": {},
     "output_type": "execute_result"
    }
   ],
   "source": [
    "e=\"This is an artificial intelligence\"\n",
    "e.title()"
   ]
  },
  {
   "cell_type": "code",
   "execution_count": 7,
   "id": "73eeb2d6",
   "metadata": {},
   "outputs": [
    {
     "data": {
      "text/plain": [
       "['This', 'is', 'an', 'artificial', 'intelligence']"
      ]
     },
     "execution_count": 7,
     "metadata": {},
     "output_type": "execute_result"
    }
   ],
   "source": [
    "e.split()"
   ]
  },
  {
   "cell_type": "code",
   "execution_count": 8,
   "id": "e832bf38",
   "metadata": {},
   "outputs": [
    {
     "data": {
      "text/plain": [
       "False"
      ]
     },
     "execution_count": 8,
     "metadata": {},
     "output_type": "execute_result"
    }
   ],
   "source": [
    "a.isupper()"
   ]
  },
  {
   "cell_type": "code",
   "execution_count": 9,
   "id": "ac87cbdc",
   "metadata": {},
   "outputs": [
    {
     "data": {
      "text/plain": [
       "'COMPUTER'"
      ]
     },
     "execution_count": 9,
     "metadata": {},
     "output_type": "execute_result"
    }
   ],
   "source": [
    "b"
   ]
  },
  {
   "cell_type": "code",
   "execution_count": 10,
   "id": "62bee182",
   "metadata": {},
   "outputs": [
    {
     "data": {
      "text/plain": [
       "True"
      ]
     },
     "execution_count": 10,
     "metadata": {},
     "output_type": "execute_result"
    }
   ],
   "source": [
    "b.isupper()"
   ]
  },
  {
   "cell_type": "code",
   "execution_count": 11,
   "id": "656159fa",
   "metadata": {},
   "outputs": [
    {
     "data": {
      "text/plain": [
       "False"
      ]
     },
     "execution_count": 11,
     "metadata": {},
     "output_type": "execute_result"
    }
   ],
   "source": [
    "b.islower()"
   ]
  },
  {
   "cell_type": "code",
   "execution_count": 12,
   "id": "75221fee",
   "metadata": {},
   "outputs": [
    {
     "data": {
      "text/plain": [
       "True"
      ]
     },
     "execution_count": 12,
     "metadata": {},
     "output_type": "execute_result"
    }
   ],
   "source": [
    "b.isalpha()"
   ]
  },
  {
   "cell_type": "code",
   "execution_count": 13,
   "id": "70a8d8c9",
   "metadata": {},
   "outputs": [
    {
     "data": {
      "text/plain": [
       "True"
      ]
     },
     "execution_count": 13,
     "metadata": {},
     "output_type": "execute_result"
    }
   ],
   "source": [
    "b1='Apple123'\n",
    "b1.isalnum()"
   ]
  },
  {
   "cell_type": "code",
   "execution_count": 14,
   "id": "904b392a",
   "metadata": {},
   "outputs": [
    {
     "data": {
      "text/plain": [
       "'This is an artificial intelligence'"
      ]
     },
     "execution_count": 14,
     "metadata": {},
     "output_type": "execute_result"
    }
   ],
   "source": [
    "e"
   ]
  },
  {
   "cell_type": "code",
   "execution_count": 15,
   "id": "2e24119b",
   "metadata": {},
   "outputs": [
    {
     "data": {
      "text/plain": [
       "True"
      ]
     },
     "execution_count": 15,
     "metadata": {},
     "output_type": "execute_result"
    }
   ],
   "source": [
    "e.startswith(\"This\")"
   ]
  },
  {
   "cell_type": "code",
   "execution_count": 16,
   "id": "3891aa39",
   "metadata": {},
   "outputs": [
    {
     "data": {
      "text/plain": [
       "False"
      ]
     },
     "execution_count": 16,
     "metadata": {},
     "output_type": "execute_result"
    }
   ],
   "source": [
    "e.startswith(\"this\")"
   ]
  },
  {
   "cell_type": "code",
   "execution_count": 17,
   "id": "85e86911",
   "metadata": {},
   "outputs": [
    {
     "data": {
      "text/plain": [
       "True"
      ]
     },
     "execution_count": 17,
     "metadata": {},
     "output_type": "execute_result"
    }
   ],
   "source": [
    "e.endswith('intelligence')"
   ]
  },
  {
   "cell_type": "code",
   "execution_count": 18,
   "id": "efe8c58d",
   "metadata": {},
   "outputs": [
    {
     "data": {
      "text/plain": [
       "34"
      ]
     },
     "execution_count": 18,
     "metadata": {},
     "output_type": "execute_result"
    }
   ],
   "source": [
    "len(e)"
   ]
  },
  {
   "cell_type": "code",
   "execution_count": 19,
   "id": "03463bcb",
   "metadata": {},
   "outputs": [
    {
     "data": {
      "text/plain": [
       "11"
      ]
     },
     "execution_count": 19,
     "metadata": {},
     "output_type": "execute_result"
    }
   ],
   "source": [
    "e.find(\"artificial\")"
   ]
  },
  {
   "cell_type": "code",
   "execution_count": 20,
   "id": "5be5d5cf",
   "metadata": {},
   "outputs": [
    {
     "data": {
      "text/plain": [
       "0"
      ]
     },
     "execution_count": 20,
     "metadata": {},
     "output_type": "execute_result"
    }
   ],
   "source": [
    "e.find(\"This\")"
   ]
  },
  {
   "cell_type": "code",
   "execution_count": 23,
   "id": "97cc46b7",
   "metadata": {},
   "outputs": [
    {
     "data": {
      "text/plain": [
       "11"
      ]
     },
     "execution_count": 23,
     "metadata": {},
     "output_type": "execute_result"
    }
   ],
   "source": [
    "e.find(\"ar\",10,31)"
   ]
  },
  {
   "cell_type": "code",
   "execution_count": 22,
   "id": "90daf161",
   "metadata": {},
   "outputs": [
    {
     "data": {
      "text/plain": [
       "'This is an artificial intelligence'"
      ]
     },
     "execution_count": 22,
     "metadata": {},
     "output_type": "execute_result"
    }
   ],
   "source": [
    "e"
   ]
  },
  {
   "cell_type": "code",
   "execution_count": 24,
   "id": "809b9215",
   "metadata": {},
   "outputs": [
    {
     "data": {
      "text/plain": [
       "3"
      ]
     },
     "execution_count": 24,
     "metadata": {},
     "output_type": "execute_result"
    }
   ],
   "source": [
    "e.count('a')"
   ]
  },
  {
   "cell_type": "code",
   "execution_count": 25,
   "id": "e6bca12b",
   "metadata": {},
   "outputs": [
    {
     "data": {
      "text/plain": [
       "'This is an machine intelligence'"
      ]
     },
     "execution_count": 25,
     "metadata": {},
     "output_type": "execute_result"
    }
   ],
   "source": [
    "e.replace(\"artificial\",\"machine\")"
   ]
  },
  {
   "cell_type": "code",
   "execution_count": 27,
   "id": "251370a6",
   "metadata": {},
   "outputs": [],
   "source": [
    "f=['NASA','is','building','hotel','project','in','Mars']"
   ]
  },
  {
   "cell_type": "code",
   "execution_count": 28,
   "id": "0dae3228",
   "metadata": {},
   "outputs": [
    {
     "data": {
      "text/plain": [
       "['NASA', 'is', 'building', 'hotel', 'project', 'in', 'Mars']"
      ]
     },
     "execution_count": 28,
     "metadata": {},
     "output_type": "execute_result"
    }
   ],
   "source": [
    "f"
   ]
  },
  {
   "cell_type": "code",
   "execution_count": 30,
   "id": "c07e6cbd",
   "metadata": {},
   "outputs": [
    {
     "data": {
      "text/plain": [
       "'NASAisbuildinghotelprojectinMars'"
      ]
     },
     "execution_count": 30,
     "metadata": {},
     "output_type": "execute_result"
    }
   ],
   "source": [
    "''.join(f)"
   ]
  },
  {
   "cell_type": "code",
   "execution_count": 31,
   "id": "77b52151",
   "metadata": {},
   "outputs": [
    {
     "data": {
      "text/plain": [
       "'NASA  is  building  hotel  project  in  Mars'"
      ]
     },
     "execution_count": 31,
     "metadata": {},
     "output_type": "execute_result"
    }
   ],
   "source": [
    "'  '.join(f)"
   ]
  },
  {
   "cell_type": "code",
   "execution_count": 32,
   "id": "bad0f2f0",
   "metadata": {},
   "outputs": [
    {
     "name": "stdout",
     "output_type": "stream",
     "text": [
      "Strings are matching\n"
     ]
    }
   ],
   "source": [
    "s1='tesla'\n",
    "s2='TESLA'\n",
    "\n",
    "if s1.casefold()==s2.casefold():\n",
    "    print(\"Strings are matching\")\n",
    "else:\n",
    "    print(\"Strings are not matching\")"
   ]
  },
  {
   "cell_type": "markdown",
   "id": "96b99096",
   "metadata": {},
   "source": [
    "C STYLE FORMAT "
   ]
  },
  {
   "cell_type": "code",
   "execution_count": 37,
   "id": "08eac3eb",
   "metadata": {},
   "outputs": [
    {
     "name": "stdout",
     "output_type": "stream",
     "text": [
      "Hello Mr.John\n",
      "Name is John and age is 12\n",
      "John your salary is 12000.000000\n",
      "John your age is 12\n"
     ]
    }
   ],
   "source": [
    "name='John'\n",
    "age=12\n",
    "salary=12000\n",
    "\n",
    "print(\"Hello Mr.%s\"%(name))\n",
    "\n",
    "print(\"Name is %s and age is %d\" %(name,age))\n",
    "\n",
    "print(\"John your salary is %f\"%(salary))\n",
    "\n",
    "print(\"%s your age is %d\"%(name,age))"
   ]
  },
  {
   "cell_type": "markdown",
   "id": "ac39d30d",
   "metadata": {},
   "source": [
    "String format functions"
   ]
  },
  {
   "cell_type": "code",
   "execution_count": 38,
   "id": "b9a26d46",
   "metadata": {},
   "outputs": [
    {
     "name": "stdout",
     "output_type": "stream",
     "text": [
      "People generally take Coke with Pizza \n"
     ]
    }
   ],
   "source": [
    "print(\"People generally take {} with {} \".format(\"Coke\",\"Pizza\"))"
   ]
  },
  {
   "cell_type": "code",
   "execution_count": 39,
   "id": "1d47c844",
   "metadata": {},
   "outputs": [
    {
     "name": "stdout",
     "output_type": "stream",
     "text": [
      "People are Good and Bad\n"
     ]
    }
   ],
   "source": [
    "print(\"People are {} and {}\".format(\"Good\",\"Bad\"))"
   ]
  },
  {
   "cell_type": "code",
   "execution_count": 40,
   "id": "aeb17d50",
   "metadata": {},
   "outputs": [
    {
     "name": "stdout",
     "output_type": "stream",
     "text": [
      "People are Good and Bad\n"
     ]
    }
   ],
   "source": [
    "print(\"People are {0} and {1}\".format(\"Good\",\"Bad\"))"
   ]
  },
  {
   "cell_type": "code",
   "execution_count": 41,
   "id": "6947458a",
   "metadata": {},
   "outputs": [
    {
     "name": "stdout",
     "output_type": "stream",
     "text": [
      "People are Bad and Good\n"
     ]
    }
   ],
   "source": [
    "print(\"People are {1} and {0}\".format(\"Good\",\"Bad\"))"
   ]
  },
  {
   "cell_type": "markdown",
   "id": "4b257c4e",
   "metadata": {},
   "source": [
    "List Comprehension"
   ]
  },
  {
   "cell_type": "code",
   "execution_count": 42,
   "id": "a152cb14",
   "metadata": {},
   "outputs": [],
   "source": [
    "p=[i for i in [11,12,13,14,15]]"
   ]
  },
  {
   "cell_type": "code",
   "execution_count": 43,
   "id": "167ecc67",
   "metadata": {},
   "outputs": [
    {
     "data": {
      "text/plain": [
       "[11, 12, 13, 14, 15]"
      ]
     },
     "execution_count": 43,
     "metadata": {},
     "output_type": "execute_result"
    }
   ],
   "source": [
    "p"
   ]
  },
  {
   "cell_type": "code",
   "execution_count": 46,
   "id": "462c8cc8",
   "metadata": {},
   "outputs": [],
   "source": [
    "k=[i for i in range(0,10)]"
   ]
  },
  {
   "cell_type": "code",
   "execution_count": 47,
   "id": "95e770e4",
   "metadata": {},
   "outputs": [
    {
     "data": {
      "text/plain": [
       "[0, 1, 2, 3, 4, 5, 6, 7, 8, 9]"
      ]
     },
     "execution_count": 47,
     "metadata": {},
     "output_type": "execute_result"
    }
   ],
   "source": [
    "k"
   ]
  },
  {
   "cell_type": "code",
   "execution_count": 48,
   "id": "9558226c",
   "metadata": {},
   "outputs": [],
   "source": [
    "p=[i for i in range(0,10,2)]"
   ]
  },
  {
   "cell_type": "code",
   "execution_count": 49,
   "id": "b5c5bcab",
   "metadata": {},
   "outputs": [
    {
     "data": {
      "text/plain": [
       "[0, 2, 4, 6, 8]"
      ]
     },
     "execution_count": 49,
     "metadata": {},
     "output_type": "execute_result"
    }
   ],
   "source": [
    "p"
   ]
  },
  {
   "cell_type": "code",
   "execution_count": 50,
   "id": "3018b384",
   "metadata": {},
   "outputs": [],
   "source": [
    "j=[i for i in range(0,10) if i%2==0]"
   ]
  },
  {
   "cell_type": "code",
   "execution_count": 51,
   "id": "156fd163",
   "metadata": {},
   "outputs": [
    {
     "data": {
      "text/plain": [
       "[0, 2, 4, 6, 8]"
      ]
     },
     "execution_count": 51,
     "metadata": {},
     "output_type": "execute_result"
    }
   ],
   "source": [
    "j"
   ]
  },
  {
   "cell_type": "code",
   "execution_count": 52,
   "id": "6362f5d9",
   "metadata": {},
   "outputs": [],
   "source": [
    "j=[i for i in range(0,10) if i%2==1]"
   ]
  },
  {
   "cell_type": "code",
   "execution_count": 53,
   "id": "2b97cefb",
   "metadata": {},
   "outputs": [
    {
     "data": {
      "text/plain": [
       "[1, 3, 5, 7, 9]"
      ]
     },
     "execution_count": 53,
     "metadata": {},
     "output_type": "execute_result"
    }
   ],
   "source": [
    "j"
   ]
  },
  {
   "cell_type": "code",
   "execution_count": null,
   "id": "398e1f55",
   "metadata": {},
   "outputs": [],
   "source": []
  }
 ],
 "metadata": {
  "kernelspec": {
   "display_name": "Python 3 (ipykernel)",
   "language": "python",
   "name": "python3"
  },
  "language_info": {
   "codemirror_mode": {
    "name": "ipython",
    "version": 3
   },
   "file_extension": ".py",
   "mimetype": "text/x-python",
   "name": "python",
   "nbconvert_exporter": "python",
   "pygments_lexer": "ipython3",
   "version": "3.9.7"
  }
 },
 "nbformat": 4,
 "nbformat_minor": 5
}
