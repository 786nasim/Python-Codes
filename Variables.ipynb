{
 "cells": [
  {
   "cell_type": "code",
   "execution_count": 1,
   "id": "eaaa680a",
   "metadata": {},
   "outputs": [
    {
     "name": "stdout",
     "output_type": "stream",
     "text": [
      "10\n",
      "Ayaan\n",
      "20.12\n"
     ]
    }
   ],
   "source": [
    "#Declaring variable\n",
    "a=10\n",
    "b='Ayaan'\n",
    "c=20.12\n",
    "print(a)\n",
    "print(b)\n",
    "print(c)"
   ]
  },
  {
   "cell_type": "code",
   "execution_count": 2,
   "id": "632b7a0d",
   "metadata": {},
   "outputs": [
    {
     "name": "stdout",
     "output_type": "stream",
     "text": [
      "Type of a= <class 'int'>\n",
      "Type of b= <class 'str'>\n",
      "Type of c= <class 'float'>\n"
     ]
    }
   ],
   "source": [
    "print('Type of a=',type(a))\n",
    "print('Type of b=',type(b))\n",
    "print('Type of c=',type(c))\n"
   ]
  },
  {
   "cell_type": "code",
   "execution_count": 3,
   "id": "0e24b98e",
   "metadata": {},
   "outputs": [
    {
     "name": "stdout",
     "output_type": "stream",
     "text": [
      "50\n",
      "50\n"
     ]
    }
   ],
   "source": [
    "#The variable b refers to the same object that a points to because Python does not create another object.\n",
    "a=50\n",
    "b=50\n",
    "print(a)\n",
    "print(b)\n"
   ]
  },
  {
   "cell_type": "code",
   "execution_count": 4,
   "id": "ac23e8b9",
   "metadata": {},
   "outputs": [
    {
     "name": "stdout",
     "output_type": "stream",
     "text": [
      "2811610355152\n",
      "2811610355152\n"
     ]
    }
   ],
   "source": [
    "#Object Identity\n",
    "a=100\n",
    "b=a\n",
    "print(id(a))\n",
    "print(id(b))"
   ]
  },
  {
   "cell_type": "code",
   "execution_count": 5,
   "id": "5c40ed7a",
   "metadata": {},
   "outputs": [
    {
     "name": "stdout",
     "output_type": "stream",
     "text": [
      "45\n",
      "45\n",
      "45\n"
     ]
    }
   ],
   "source": [
    "#Multiple Assignment\n",
    "a=b=c=45\n",
    "print(a)\n",
    "print(b)\n",
    "print(c)"
   ]
  },
  {
   "cell_type": "code",
   "execution_count": 7,
   "id": "8adbd6d4",
   "metadata": {},
   "outputs": [
    {
     "name": "stdout",
     "output_type": "stream",
     "text": [
      "120\n",
      "10\n",
      "20\n"
     ]
    }
   ],
   "source": [
    "x,y,z=120,10,20\n",
    "print(x)\n",
    "print(y)\n",
    "print(z)"
   ]
  },
  {
   "cell_type": "code",
   "execution_count": 10,
   "id": "312a2f2b",
   "metadata": {},
   "outputs": [
    {
     "name": "stdout",
     "output_type": "stream",
     "text": [
      "21 and data type is <class 'str'>\n",
      "32\n",
      "32.0\n"
     ]
    }
   ],
   "source": [
    "#datatype conversion\n",
    "a=str(21) \n",
    "b=int('32')\n",
    "c=float(32)\n",
    "print(a ,'and data type is',type(a))\n",
    "print(b)\n",
    "print(c)\n"
   ]
  },
  {
   "cell_type": "code",
   "execution_count": 11,
   "id": "97a2ef8f",
   "metadata": {},
   "outputs": [
    {
     "name": "stdout",
     "output_type": "stream",
     "text": [
      "Enter Name=Nasim\n"
     ]
    }
   ],
   "source": [
    "#input function\n",
    "a=input('Enter Name=')\n"
   ]
  },
  {
   "cell_type": "code",
   "execution_count": null,
   "id": "1ef636a4",
   "metadata": {},
   "outputs": [],
   "source": []
  }
 ],
 "metadata": {
  "kernelspec": {
   "display_name": "Python 3 (ipykernel)",
   "language": "python",
   "name": "python3"
  },
  "language_info": {
   "codemirror_mode": {
    "name": "ipython",
    "version": 3
   },
   "file_extension": ".py",
   "mimetype": "text/x-python",
   "name": "python",
   "nbconvert_exporter": "python",
   "pygments_lexer": "ipython3",
   "version": "3.9.7"
  }
 },
 "nbformat": 4,
 "nbformat_minor": 5
}
