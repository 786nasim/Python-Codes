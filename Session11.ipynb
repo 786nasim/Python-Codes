{
 "cells": [
  {
   "cell_type": "code",
   "execution_count": 1,
   "id": "a9dcc27b",
   "metadata": {},
   "outputs": [
    {
     "data": {
      "text/plain": [
       "4"
      ]
     },
     "execution_count": 1,
     "metadata": {},
     "output_type": "execute_result"
    }
   ],
   "source": [
    "var=lambda a,b:a+b\n",
    "var(1,3)"
   ]
  },
  {
   "cell_type": "code",
   "execution_count": 2,
   "id": "6e725bb3",
   "metadata": {},
   "outputs": [
    {
     "data": {
      "text/plain": [
       "True"
      ]
     },
     "execution_count": 2,
     "metadata": {},
     "output_type": "execute_result"
    }
   ],
   "source": [
    "c=lambda x:x%2==0\n",
    "c(4)"
   ]
  },
  {
   "cell_type": "code",
   "execution_count": 3,
   "id": "33888a55",
   "metadata": {},
   "outputs": [
    {
     "data": {
      "text/plain": [
       "10"
      ]
     },
     "execution_count": 3,
     "metadata": {},
     "output_type": "execute_result"
    }
   ],
   "source": [
    "test=lambda x:x*2\n",
    "test(5)"
   ]
  },
  {
   "cell_type": "code",
   "execution_count": 4,
   "id": "7960679a",
   "metadata": {},
   "outputs": [
    {
     "data": {
      "text/plain": [
       "12"
      ]
     },
     "execution_count": 4,
     "metadata": {},
     "output_type": "execute_result"
    }
   ],
   "source": [
    "add=lambda x,y,z:x+y+z\n",
    "add(3,4,5)"
   ]
  },
  {
   "cell_type": "code",
   "execution_count": 8,
   "id": "5f2ba277",
   "metadata": {},
   "outputs": [
    {
     "data": {
      "text/plain": [
       "25"
      ]
     },
     "execution_count": 8,
     "metadata": {},
     "output_type": "execute_result"
    }
   ],
   "source": [
    "#find square\n",
    "square=lambda x:x**2\n",
    "square(5)"
   ]
  },
  {
   "cell_type": "code",
   "execution_count": 10,
   "id": "8d8455af",
   "metadata": {},
   "outputs": [
    {
     "data": {
      "text/plain": [
       "8.0"
      ]
     },
     "execution_count": 10,
     "metadata": {},
     "output_type": "execute_result"
    }
   ],
   "source": [
    "#find squareroot\n",
    "\n",
    "sqroot=lambda x:x**(1/2)\n",
    "sqroot(64)"
   ]
  },
  {
   "cell_type": "code",
   "execution_count": 11,
   "id": "258d3f9a",
   "metadata": {},
   "outputs": [
    {
     "data": {
      "text/plain": [
       "27"
      ]
     },
     "execution_count": 11,
     "metadata": {},
     "output_type": "execute_result"
    }
   ],
   "source": [
    "#find cube\n",
    "cube=lambda x:x**3\n",
    "cube(3)"
   ]
  },
  {
   "cell_type": "code",
   "execution_count": 14,
   "id": "f99e953c",
   "metadata": {},
   "outputs": [
    {
     "data": {
      "text/plain": [
       "3.0"
      ]
     },
     "execution_count": 14,
     "metadata": {},
     "output_type": "execute_result"
    }
   ],
   "source": [
    "#find cuberoot\n",
    "curoot=lambda x:x**(1/3)\n",
    "curoot(27)"
   ]
  },
  {
   "cell_type": "code",
   "execution_count": 18,
   "id": "469dea9c",
   "metadata": {
    "scrolled": true
   },
   "outputs": [
    {
     "name": "stdout",
     "output_type": "stream",
     "text": [
      "Value of total= 10\n",
      "Value of total= 20\n"
     ]
    }
   ],
   "source": [
    "addvar=lambda arg1,arg2:arg1+arg2\n",
    "\n",
    "#Now you can call sum as a function\n",
    "\n",
    "print(\"Value of total=\",addvar(5,5))\n",
    "\n",
    "print(\"Value of total=\",addvar(15,5))\n"
   ]
  },
  {
   "cell_type": "code",
   "execution_count": null,
   "id": "4eedffc2",
   "metadata": {},
   "outputs": [],
   "source": []
  },
  {
   "cell_type": "code",
   "execution_count": 19,
   "id": "37830a4d",
   "metadata": {},
   "outputs": [],
   "source": [
    "#Converting temperature in celcius\n",
    "def fahrenheit(T):\n",
    "    return ((9/5)*T+32)"
   ]
  },
  {
   "cell_type": "code",
   "execution_count": 20,
   "id": "5183406b",
   "metadata": {},
   "outputs": [
    {
     "data": {
      "text/plain": [
       "95.0"
      ]
     },
     "execution_count": 20,
     "metadata": {},
     "output_type": "execute_result"
    }
   ],
   "source": [
    "f=fahrenheit(35)\n",
    "f"
   ]
  },
  {
   "cell_type": "code",
   "execution_count": 21,
   "id": "2875af8b",
   "metadata": {},
   "outputs": [],
   "source": [
    "#Converting temperature to celsius\n",
    "\n",
    "def celsius(T):\n",
    "    return ((5/9)*(T-32))"
   ]
  },
  {
   "cell_type": "code",
   "execution_count": 22,
   "id": "13c51a54",
   "metadata": {},
   "outputs": [
    {
     "data": {
      "text/plain": [
       "35.0"
      ]
     },
     "execution_count": 22,
     "metadata": {},
     "output_type": "execute_result"
    }
   ],
   "source": [
    "ce=celsius(95)\n",
    "ce"
   ]
  },
  {
   "cell_type": "code",
   "execution_count": 23,
   "id": "ea3bd042",
   "metadata": {},
   "outputs": [],
   "source": [
    "def testin():\n",
    "    x=int(input(\"Enter the x=\"))\n",
    "    y=int(input(\"Enter the y=\"))\n",
    "    t=lambda x,y:x**y\n",
    "    print(t(x,y))"
   ]
  },
  {
   "cell_type": "code",
   "execution_count": 24,
   "id": "5ed2e14c",
   "metadata": {},
   "outputs": [
    {
     "name": "stdout",
     "output_type": "stream",
     "text": [
      "Enter the x=2\n",
      "Enter the y=3\n",
      "8\n"
     ]
    }
   ],
   "source": [
    "testin()"
   ]
  },
  {
   "cell_type": "code",
   "execution_count": 30,
   "id": "458168f8",
   "metadata": {},
   "outputs": [],
   "source": [
    "def testin1(x,y):\n",
    "    #x=int(input(\"Enter the x=\"))\n",
    "    #y=int(input(\"Enter the y=\"))\n",
    "    t=lambda x,y:x**y\n",
    "    print(t(x,y))"
   ]
  },
  {
   "cell_type": "code",
   "execution_count": 31,
   "id": "c76d00d6",
   "metadata": {},
   "outputs": [
    {
     "name": "stdout",
     "output_type": "stream",
     "text": [
      "8\n"
     ]
    }
   ],
   "source": [
    "testin1(2,3)"
   ]
  },
  {
   "cell_type": "code",
   "execution_count": 35,
   "id": "38e69b6c",
   "metadata": {},
   "outputs": [
    {
     "data": {
      "text/plain": [
       "101.12"
      ]
     },
     "execution_count": 35,
     "metadata": {},
     "output_type": "execute_result"
    }
   ],
   "source": [
    "#Lambda with fahrenheit\n",
    "F=lambda x: (9/5)*x+32\n",
    "F(38.4)"
   ]
  },
  {
   "cell_type": "markdown",
   "id": "49ec5853",
   "metadata": {},
   "source": [
    "Map in lambda--->It applies on list"
   ]
  },
  {
   "cell_type": "code",
   "execution_count": 36,
   "id": "2115611c",
   "metadata": {},
   "outputs": [
    {
     "data": {
      "text/plain": [
       "<map at 0x2835fbc9fa0>"
      ]
     },
     "execution_count": 36,
     "metadata": {},
     "output_type": "execute_result"
    }
   ],
   "source": [
    "mylist=[1,2,3,4]\n",
    "map(lambda x:x*2,mylist)"
   ]
  },
  {
   "cell_type": "code",
   "execution_count": 37,
   "id": "508a0f7c",
   "metadata": {},
   "outputs": [
    {
     "data": {
      "text/plain": [
       "[2, 4, 6, 8]"
      ]
     },
     "execution_count": 37,
     "metadata": {},
     "output_type": "execute_result"
    }
   ],
   "source": [
    "list(map(lambda x:x*2,mylist))"
   ]
  },
  {
   "cell_type": "code",
   "execution_count": 38,
   "id": "434e2f40",
   "metadata": {},
   "outputs": [],
   "source": [
    "C=[35.2,36.5,37.3,38,39.8]"
   ]
  },
  {
   "cell_type": "code",
   "execution_count": 42,
   "id": "eb49690a",
   "metadata": {},
   "outputs": [
    {
     "name": "stdout",
     "output_type": "stream",
     "text": [
      "[95.36000000000001, 97.7, 99.14000000000001, 100.40000000000002, 103.64000000000001]\n"
     ]
    }
   ],
   "source": [
    "F=list(map(lambda x:(9/5)*x+32,C))\n",
    "print(F)\n"
   ]
  },
  {
   "cell_type": "code",
   "execution_count": 40,
   "id": "684a70a7",
   "metadata": {},
   "outputs": [
    {
     "name": "stdout",
     "output_type": "stream",
     "text": [
      "[35.20000000000001, 36.5, 37.300000000000004, 38.00000000000001, 39.800000000000004]\n"
     ]
    }
   ],
   "source": [
    "C=list(map(lambda x:(5/9)*(x-32),F))\n",
    "print(C)"
   ]
  },
  {
   "cell_type": "code",
   "execution_count": 46,
   "id": "0fd65ba3",
   "metadata": {},
   "outputs": [
    {
     "data": {
      "text/plain": [
       "[35.2, 0.0, 37.3, 38.0, 39.8]"
      ]
     },
     "execution_count": 46,
     "metadata": {},
     "output_type": "execute_result"
    }
   ],
   "source": [
    "newClist=[round(x,2) %x for x in C]\n",
    "\n",
    "newClist"
   ]
  },
  {
   "cell_type": "code",
   "execution_count": 48,
   "id": "136dc31f",
   "metadata": {},
   "outputs": [
    {
     "data": {
      "text/plain": [
       "['35.20', '36.50', '37.30', '38.00', '39.80']"
      ]
     },
     "execution_count": 48,
     "metadata": {},
     "output_type": "execute_result"
    }
   ],
   "source": [
    "newlist=['%.2f' %j for j in C]\n",
    "\n",
    "newlist"
   ]
  },
  {
   "cell_type": "markdown",
   "id": "8e2b394c",
   "metadata": {},
   "source": [
    "# FILTER"
   ]
  },
  {
   "cell_type": "code",
   "execution_count": 49,
   "id": "f3cf3c40",
   "metadata": {},
   "outputs": [
    {
     "data": {
      "text/plain": [
       "[3, 4, 5, 6, 7]"
      ]
     },
     "execution_count": 49,
     "metadata": {},
     "output_type": "execute_result"
    }
   ],
   "source": [
    "mylist=[1,2,3,4,5,6,7]\n",
    "list(filter(lambda x: x>2,mylist))"
   ]
  },
  {
   "cell_type": "markdown",
   "id": "2a985e10",
   "metadata": {},
   "source": [
    "Filter will returns the values where function is true"
   ]
  },
  {
   "cell_type": "code",
   "execution_count": 50,
   "id": "4726dc94",
   "metadata": {},
   "outputs": [
    {
     "data": {
      "text/plain": [
       "[0, 2, 4, 6, 8, 10]"
      ]
     },
     "execution_count": 50,
     "metadata": {},
     "output_type": "execute_result"
    }
   ],
   "source": [
    "even=lambda x: x%2==0\n",
    "list(filter(even,range(11)))"
   ]
  },
  {
   "cell_type": "code",
   "execution_count": 51,
   "id": "a55b3bfb",
   "metadata": {},
   "outputs": [
    {
     "data": {
      "text/plain": [
       "[0, 2, 4, 6, 8, 10]"
      ]
     },
     "execution_count": 51,
     "metadata": {},
     "output_type": "execute_result"
    }
   ],
   "source": [
    "#you can do it by list comprehension\n",
    "\n",
    "[x for x in range(11) if x%2==0]"
   ]
  },
  {
   "cell_type": "code",
   "execution_count": null,
   "id": "ad8e53f6",
   "metadata": {},
   "outputs": [],
   "source": []
  }
 ],
 "metadata": {
  "kernelspec": {
   "display_name": "Python 3 (ipykernel)",
   "language": "python",
   "name": "python3"
  },
  "language_info": {
   "codemirror_mode": {
    "name": "ipython",
    "version": 3
   },
   "file_extension": ".py",
   "mimetype": "text/x-python",
   "name": "python",
   "nbconvert_exporter": "python",
   "pygments_lexer": "ipython3",
   "version": "3.9.7"
  }
 },
 "nbformat": 4,
 "nbformat_minor": 5
}
