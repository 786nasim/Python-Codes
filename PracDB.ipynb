{
 "cells": [
  {
   "cell_type": "code",
   "execution_count": 1,
   "id": "3cd603a5",
   "metadata": {},
   "outputs": [],
   "source": [
    "import sqlite3"
   ]
  },
  {
   "cell_type": "code",
   "execution_count": 2,
   "id": "4029c66b",
   "metadata": {},
   "outputs": [],
   "source": [
    "#connecting with dbase\n",
    "db=sqlite3.connect(\"MYDATABASE.db\")"
   ]
  },
  {
   "cell_type": "code",
   "execution_count": 4,
   "id": "220abb44",
   "metadata": {},
   "outputs": [
    {
     "data": {
      "text/plain": [
       "<sqlite3.Cursor at 0x23adb281b90>"
      ]
     },
     "execution_count": 4,
     "metadata": {},
     "output_type": "execute_result"
    }
   ],
   "source": [
    "#drop table if exists using execute() method\n",
    "db.execute(\"drop table if  exists grades1\")"
   ]
  },
  {
   "cell_type": "code",
   "execution_count": 5,
   "id": "6197c95b",
   "metadata": {},
   "outputs": [
    {
     "data": {
      "text/plain": [
       "<sqlite3.Cursor at 0x23adb281ea0>"
      ]
     },
     "execution_count": 5,
     "metadata": {},
     "output_type": "execute_result"
    }
   ],
   "source": [
    "#Creating table\n",
    "db.execute(\"create table Grade(Id int,Name text,Score int)\")\n",
    "db.execute(\"insert into Grade(Id,Name,Score) values(101,'John',98)\")\n",
    "db.execute(\"insert into Grade(Id,Name,Score) values(102,'Jack',87)\")\n",
    "db.execute(\"insert into Grade(Id,Name,Score) values(103,'Sohan',67)\")\n",
    "db.execute(\"insert into Grade(Id,Name,Score) values(105,'Rohan',56)\")\n",
    "db.execute(\"insert into Grade(Id,Name,Score) values(106,'Ricky',78)\")"
   ]
  },
  {
   "cell_type": "code",
   "execution_count": 6,
   "id": "aeee7881",
   "metadata": {},
   "outputs": [],
   "source": [
    "db.commit()"
   ]
  },
  {
   "cell_type": "code",
   "execution_count": 8,
   "id": "7f36be8a",
   "metadata": {},
   "outputs": [
    {
     "data": {
      "text/plain": [
       "[(101, 'John', 98),\n",
       " (102, 'Jack', 87),\n",
       " (103, 'Sohan', 67),\n",
       " (105, 'Rohan', 56),\n",
       " (106, 'Ricky', 78)]"
      ]
     },
     "execution_count": 8,
     "metadata": {},
     "output_type": "execute_result"
    }
   ],
   "source": [
    "results=db.execute(\"select * from Grade \")\n",
    "results.fetchall()"
   ]
  },
  {
   "cell_type": "code",
   "execution_count": 9,
   "id": "ad7aee70",
   "metadata": {},
   "outputs": [
    {
     "name": "stdout",
     "output_type": "stream",
     "text": [
      "(101, 'John', 98)\n",
      "(102, 'Jack', 87)\n",
      "(103, 'Sohan', 67)\n",
      "(105, 'Rohan', 56)\n",
      "(106, 'Ricky', 78)\n"
     ]
    }
   ],
   "source": [
    "results=db.execute(\"select * from Grade order by Id\")\n",
    "for row in results:\n",
    "    print(row)"
   ]
  },
  {
   "cell_type": "code",
   "execution_count": 12,
   "id": "58ae3c4d",
   "metadata": {},
   "outputs": [
    {
     "name": "stdout",
     "output_type": "stream",
     "text": [
      "(101, 'John', 98)\n"
     ]
    }
   ],
   "source": [
    "results=db.execute(\"select * from Grade where Name='John'\")\n",
    "for row in results:\n",
    "    print(row)"
   ]
  },
  {
   "cell_type": "code",
   "execution_count": 14,
   "id": "ab1da049",
   "metadata": {},
   "outputs": [
    {
     "name": "stdout",
     "output_type": "stream",
     "text": [
      "(101, 'John', 98)\n",
      "(102, 'Jack', 87)\n"
     ]
    }
   ],
   "source": [
    "results=db.execute(\"select * from Grade where Score>=80 \")\n",
    "for row in results:\n",
    "    print(row)"
   ]
  },
  {
   "cell_type": "code",
   "execution_count": 15,
   "id": "9ac295ed",
   "metadata": {},
   "outputs": [
    {
     "ename": "OperationalError",
     "evalue": "no such column: all_columns",
     "output_type": "error",
     "traceback": [
      "\u001b[1;31m---------------------------------------------------------------------------\u001b[0m",
      "\u001b[1;31mOperationalError\u001b[0m                          Traceback (most recent call last)",
      "\u001b[1;32m~\\AppData\\Local\\Temp/ipykernel_9552/4021741490.py\u001b[0m in \u001b[0;36m<module>\u001b[1;34m\u001b[0m\n\u001b[1;32m----> 1\u001b[1;33m \u001b[0mresults\u001b[0m\u001b[1;33m=\u001b[0m\u001b[0mdb\u001b[0m\u001b[1;33m.\u001b[0m\u001b[0mexecute\u001b[0m\u001b[1;33m(\u001b[0m\u001b[1;34m\"select all_columns from Grade \"\u001b[0m\u001b[1;33m)\u001b[0m\u001b[1;33m\u001b[0m\u001b[1;33m\u001b[0m\u001b[0m\n\u001b[0m\u001b[0;32m      2\u001b[0m \u001b[1;32mfor\u001b[0m \u001b[0mrow\u001b[0m \u001b[1;32min\u001b[0m \u001b[0mresults\u001b[0m\u001b[1;33m:\u001b[0m\u001b[1;33m\u001b[0m\u001b[1;33m\u001b[0m\u001b[0m\n\u001b[0;32m      3\u001b[0m     \u001b[0mprint\u001b[0m\u001b[1;33m(\u001b[0m\u001b[0mrow\u001b[0m\u001b[1;33m)\u001b[0m\u001b[1;33m\u001b[0m\u001b[1;33m\u001b[0m\u001b[0m\n",
      "\u001b[1;31mOperationalError\u001b[0m: no such column: all_columns"
     ]
    }
   ],
   "source": [
    "results=db.execute(\"select all_columns from Grade \")\n",
    "for row in results:\n",
    "    print(row)"
   ]
  },
  {
   "cell_type": "code",
   "execution_count": null,
   "id": "4116c3f6",
   "metadata": {},
   "outputs": [],
   "source": []
  }
 ],
 "metadata": {
  "kernelspec": {
   "display_name": "Python 3 (ipykernel)",
   "language": "python",
   "name": "python3"
  },
  "language_info": {
   "codemirror_mode": {
    "name": "ipython",
    "version": 3
   },
   "file_extension": ".py",
   "mimetype": "text/x-python",
   "name": "python",
   "nbconvert_exporter": "python",
   "pygments_lexer": "ipython3",
   "version": "3.9.7"
  }
 },
 "nbformat": 4,
 "nbformat_minor": 5
}
