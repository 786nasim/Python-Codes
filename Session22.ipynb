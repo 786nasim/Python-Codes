{
 "cells": [
  {
   "cell_type": "code",
   "execution_count": 1,
   "id": "d8b3c367",
   "metadata": {},
   "outputs": [],
   "source": [
    "import pandas as pd"
   ]
  },
  {
   "cell_type": "code",
   "execution_count": 2,
   "id": "43fe5aca",
   "metadata": {},
   "outputs": [
    {
     "name": "stdout",
     "output_type": "stream",
     "text": [
      "    SNo    Name   Age       City  Country   Salary\n",
      "0     1     Tom  28.0    Toronto   Canada  20000.0\n",
      "1     2     Lee  31.0    Edmonto   Canada   3900.0\n",
      "2     3    Dave  34.0    Toronto   Canada   8000.0\n",
      "3     4    Anik  26.0   HongKong     Asia  66672.0\n",
      "4     5   kamal  30.0        NaN  America      NaN\n",
      "5     6    Geet   NaN   HongKong     Asia  30007.0\n",
      "6     7  Steven  43.0    BayArea  America   8300.0\n",
      "7     8     Ram  38.0  Hyderabad     Asia  54666.0\n",
      "8     9    hari  50.0    newyork  America  67666.0\n",
      "9    11    yami   NaN    newyork  America   8888.0\n",
      "10   12    Anik  26.0   HongKong     Asia  66672.0\n",
      "11   13   kamal  30.0        NaN  America  34344.0\n",
      "12   14    Geet  22.0   HongKong     Asia  30007.0\n",
      "13   15  Steven  43.0        NaN  America   8300.0\n",
      "14   16     Ram  38.0  Hyderabad     Asia  54666.0\n",
      "15   17    hari   NaN    newyork  America  67666.0\n",
      "16   18    yami  27.0    newyork  America   8888.0\n",
      "17   19     Lee  31.0    Edmonto   Canada      NaN\n",
      "18   20  Andrew  34.0      Congo   Africa  34432.0\n",
      "19   21   soham  32.0     Angola   Africa  34534.0\n",
      "20   22    Grig  26.0    Finland   Europe  33451.0\n",
      "21   23   Kiara  27.0     London   Europe      NaN\n"
     ]
    }
   ],
   "source": [
    "df=pd.read_csv(\"emp1.csv\")\n",
    "print(df)"
   ]
  },
  {
   "cell_type": "code",
   "execution_count": 4,
   "id": "1f6a764e",
   "metadata": {},
   "outputs": [
    {
     "name": "stdout",
     "output_type": "stream",
     "text": [
      "       Name   Age       City  Country   Salary\n",
      "SNo                                           \n",
      "1       Tom  28.0    Toronto   Canada  20000.0\n",
      "2       Lee  31.0    Edmonto   Canada   3900.0\n",
      "3      Dave  34.0    Toronto   Canada   8000.0\n",
      "4      Anik  26.0   HongKong     Asia  66672.0\n",
      "5     kamal  30.0        NaN  America      NaN\n",
      "6      Geet   NaN   HongKong     Asia  30007.0\n",
      "7    Steven  43.0    BayArea  America   8300.0\n",
      "8       Ram  38.0  Hyderabad     Asia  54666.0\n",
      "9      hari  50.0    newyork  America  67666.0\n",
      "11     yami   NaN    newyork  America   8888.0\n",
      "12     Anik  26.0   HongKong     Asia  66672.0\n",
      "13    kamal  30.0        NaN  America  34344.0\n",
      "14     Geet  22.0   HongKong     Asia  30007.0\n",
      "15   Steven  43.0        NaN  America   8300.0\n",
      "16      Ram  38.0  Hyderabad     Asia  54666.0\n",
      "17     hari   NaN    newyork  America  67666.0\n",
      "18     yami  27.0    newyork  America   8888.0\n",
      "19      Lee  31.0    Edmonto   Canada      NaN\n",
      "20   Andrew  34.0      Congo   Africa  34432.0\n",
      "21    soham  32.0     Angola   Africa  34534.0\n",
      "22     Grig  26.0    Finland   Europe  33451.0\n",
      "23    Kiara  27.0     London   Europe      NaN\n"
     ]
    }
   ],
   "source": [
    "df=pd.read_csv(\"emp1.csv\",index_col=[\"SNo\"])\n",
    "print(df)"
   ]
  },
  {
   "cell_type": "code",
   "execution_count": 17,
   "id": "45c22658",
   "metadata": {},
   "outputs": [
    {
     "ename": "SyntaxError",
     "evalue": "invalid syntax (Temp/ipykernel_9052/2808959186.py, line 2)",
     "output_type": "error",
     "traceback": [
      "\u001b[1;36m  File \u001b[1;32m\"C:\\Users\\Dell\\AppData\\Local\\Temp/ipykernel_9052/2808959186.py\"\u001b[1;36m, line \u001b[1;32m2\u001b[0m\n\u001b[1;33m    df=pd.read_csv(\"emp1.csv\",dtype=['Salary':np.float64])\u001b[0m\n\u001b[1;37m                                             ^\u001b[0m\n\u001b[1;31mSyntaxError\u001b[0m\u001b[1;31m:\u001b[0m invalid syntax\n"
     ]
    }
   ],
   "source": [
    "import numpy as np\n",
    "df=pd.read_csv(\"emp1.csv\",dtype=['Salary':np.float64])"
   ]
  },
  {
   "cell_type": "code",
   "execution_count": 7,
   "id": "f99007b0",
   "metadata": {},
   "outputs": [
    {
     "data": {
      "text/plain": [
       "Name       22\n",
       "Age        19\n",
       "City       19\n",
       "Country    22\n",
       "Salary     19\n",
       "dtype: int64"
      ]
     },
     "execution_count": 7,
     "metadata": {},
     "output_type": "execute_result"
    }
   ],
   "source": [
    "df.count()"
   ]
  },
  {
   "cell_type": "code",
   "execution_count": 8,
   "id": "daad70ad",
   "metadata": {},
   "outputs": [
    {
     "data": {
      "text/plain": [
       "<AxesSubplot:xlabel='Salary'>"
      ]
     },
     "execution_count": 8,
     "metadata": {},
     "output_type": "execute_result"
    },
    {
     "data": {
      "image/png": "[encoded data removed]",
      "text/plain": [
       "<Figure size 432x288 with 1 Axes>"
      ]
     },
     "metadata": {
      "needs_background": "light"
     },
     "output_type": "display_data"
    }
   ],
   "source": [
    "df.plot.bar(\"Salary\")"
   ]
  },
  {
   "cell_type": "code",
   "execution_count": 9,
   "id": "9be8ff15",
   "metadata": {},
   "outputs": [
    {
     "data": {
      "text/html": [
       "<div>\n",
       "<style scoped>\n",
       "    .dataframe tbody tr th:only-of-type {\n",
       "        vertical-align: middle;\n",
       "    }\n",
       "\n",
       "    .dataframe tbody tr th {\n",
       "        vertical-align: top;\n",
       "    }\n",
       "\n",
       "    .dataframe thead th {\n",
       "        text-align: right;\n",
       "    }\n",
       "</style>\n",
       "<table border=\"1\" class=\"dataframe\">\n",
       "  <thead>\n",
       "    <tr style=\"text-align: right;\">\n",
       "      <th></th>\n",
       "      <th>Name</th>\n",
       "      <th>Age</th>\n",
       "      <th>City</th>\n",
       "      <th>Country</th>\n",
       "      <th>Salary</th>\n",
       "    </tr>\n",
       "    <tr>\n",
       "      <th>SNo</th>\n",
       "      <th></th>\n",
       "      <th></th>\n",
       "      <th></th>\n",
       "      <th></th>\n",
       "      <th></th>\n",
       "    </tr>\n",
       "  </thead>\n",
       "  <tbody>\n",
       "    <tr>\n",
       "      <th>1</th>\n",
       "      <td>Tom</td>\n",
       "      <td>28.0</td>\n",
       "      <td>Toronto</td>\n",
       "      <td>Canada</td>\n",
       "      <td>20000.0</td>\n",
       "    </tr>\n",
       "    <tr>\n",
       "      <th>2</th>\n",
       "      <td>Lee</td>\n",
       "      <td>31.0</td>\n",
       "      <td>Edmonto</td>\n",
       "      <td>Canada</td>\n",
       "      <td>3900.0</td>\n",
       "    </tr>\n",
       "    <tr>\n",
       "      <th>3</th>\n",
       "      <td>Dave</td>\n",
       "      <td>34.0</td>\n",
       "      <td>Toronto</td>\n",
       "      <td>Canada</td>\n",
       "      <td>8000.0</td>\n",
       "    </tr>\n",
       "    <tr>\n",
       "      <th>4</th>\n",
       "      <td>Anik</td>\n",
       "      <td>26.0</td>\n",
       "      <td>HongKong</td>\n",
       "      <td>Asia</td>\n",
       "      <td>66672.0</td>\n",
       "    </tr>\n",
       "    <tr>\n",
       "      <th>5</th>\n",
       "      <td>kamal</td>\n",
       "      <td>30.0</td>\n",
       "      <td>NaN</td>\n",
       "      <td>America</td>\n",
       "      <td>NaN</td>\n",
       "    </tr>\n",
       "    <tr>\n",
       "      <th>6</th>\n",
       "      <td>Geet</td>\n",
       "      <td>NaN</td>\n",
       "      <td>HongKong</td>\n",
       "      <td>Asia</td>\n",
       "      <td>30007.0</td>\n",
       "    </tr>\n",
       "    <tr>\n",
       "      <th>7</th>\n",
       "      <td>Steven</td>\n",
       "      <td>43.0</td>\n",
       "      <td>BayArea</td>\n",
       "      <td>America</td>\n",
       "      <td>8300.0</td>\n",
       "    </tr>\n",
       "    <tr>\n",
       "      <th>8</th>\n",
       "      <td>Ram</td>\n",
       "      <td>38.0</td>\n",
       "      <td>Hyderabad</td>\n",
       "      <td>Asia</td>\n",
       "      <td>54666.0</td>\n",
       "    </tr>\n",
       "    <tr>\n",
       "      <th>9</th>\n",
       "      <td>hari</td>\n",
       "      <td>50.0</td>\n",
       "      <td>newyork</td>\n",
       "      <td>America</td>\n",
       "      <td>67666.0</td>\n",
       "    </tr>\n",
       "    <tr>\n",
       "      <th>11</th>\n",
       "      <td>yami</td>\n",
       "      <td>NaN</td>\n",
       "      <td>newyork</td>\n",
       "      <td>America</td>\n",
       "      <td>8888.0</td>\n",
       "    </tr>\n",
       "    <tr>\n",
       "      <th>12</th>\n",
       "      <td>Anik</td>\n",
       "      <td>26.0</td>\n",
       "      <td>HongKong</td>\n",
       "      <td>Asia</td>\n",
       "      <td>66672.0</td>\n",
       "    </tr>\n",
       "    <tr>\n",
       "      <th>13</th>\n",
       "      <td>kamal</td>\n",
       "      <td>30.0</td>\n",
       "      <td>NaN</td>\n",
       "      <td>America</td>\n",
       "      <td>34344.0</td>\n",
       "    </tr>\n",
       "    <tr>\n",
       "      <th>14</th>\n",
       "      <td>Geet</td>\n",
       "      <td>22.0</td>\n",
       "      <td>HongKong</td>\n",
       "      <td>Asia</td>\n",
       "      <td>30007.0</td>\n",
       "    </tr>\n",
       "    <tr>\n",
       "      <th>15</th>\n",
       "      <td>Steven</td>\n",
       "      <td>43.0</td>\n",
       "      <td>NaN</td>\n",
       "      <td>America</td>\n",
       "      <td>8300.0</td>\n",
       "    </tr>\n",
       "    <tr>\n",
       "      <th>16</th>\n",
       "      <td>Ram</td>\n",
       "      <td>38.0</td>\n",
       "      <td>Hyderabad</td>\n",
       "      <td>Asia</td>\n",
       "      <td>54666.0</td>\n",
       "    </tr>\n",
       "    <tr>\n",
       "      <th>17</th>\n",
       "      <td>hari</td>\n",
       "      <td>NaN</td>\n",
       "      <td>newyork</td>\n",
       "      <td>America</td>\n",
       "      <td>67666.0</td>\n",
       "    </tr>\n",
       "    <tr>\n",
       "      <th>18</th>\n",
       "      <td>yami</td>\n",
       "      <td>27.0</td>\n",
       "      <td>newyork</td>\n",
       "      <td>America</td>\n",
       "      <td>8888.0</td>\n",
       "    </tr>\n",
       "    <tr>\n",
       "      <th>19</th>\n",
       "      <td>Lee</td>\n",
       "      <td>31.0</td>\n",
       "      <td>Edmonto</td>\n",
       "      <td>Canada</td>\n",
       "      <td>NaN</td>\n",
       "    </tr>\n",
       "    <tr>\n",
       "      <th>20</th>\n",
       "      <td>Andrew</td>\n",
       "      <td>34.0</td>\n",
       "      <td>Congo</td>\n",
       "      <td>Africa</td>\n",
       "      <td>34432.0</td>\n",
       "    </tr>\n",
       "    <tr>\n",
       "      <th>21</th>\n",
       "      <td>soham</td>\n",
       "      <td>32.0</td>\n",
       "      <td>Angola</td>\n",
       "      <td>Africa</td>\n",
       "      <td>34534.0</td>\n",
       "    </tr>\n",
       "    <tr>\n",
       "      <th>22</th>\n",
       "      <td>Grig</td>\n",
       "      <td>26.0</td>\n",
       "      <td>Finland</td>\n",
       "      <td>Europe</td>\n",
       "      <td>33451.0</td>\n",
       "    </tr>\n",
       "    <tr>\n",
       "      <th>23</th>\n",
       "      <td>Kiara</td>\n",
       "      <td>27.0</td>\n",
       "      <td>London</td>\n",
       "      <td>Europe</td>\n",
       "      <td>NaN</td>\n",
       "    </tr>\n",
       "  </tbody>\n",
       "</table>\n",
       "</div>"
      ],
      "text/plain": [
       "       Name   Age       City  Country   Salary\n",
       "SNo                                           \n",
       "1       Tom  28.0    Toronto   Canada  20000.0\n",
       "2       Lee  31.0    Edmonto   Canada   3900.0\n",
       "3      Dave  34.0    Toronto   Canada   8000.0\n",
       "4      Anik  26.0   HongKong     Asia  66672.0\n",
       "5     kamal  30.0        NaN  America      NaN\n",
       "6      Geet   NaN   HongKong     Asia  30007.0\n",
       "7    Steven  43.0    BayArea  America   8300.0\n",
       "8       Ram  38.0  Hyderabad     Asia  54666.0\n",
       "9      hari  50.0    newyork  America  67666.0\n",
       "11     yami   NaN    newyork  America   8888.0\n",
       "12     Anik  26.0   HongKong     Asia  66672.0\n",
       "13    kamal  30.0        NaN  America  34344.0\n",
       "14     Geet  22.0   HongKong     Asia  30007.0\n",
       "15   Steven  43.0        NaN  America   8300.0\n",
       "16      Ram  38.0  Hyderabad     Asia  54666.0\n",
       "17     hari   NaN    newyork  America  67666.0\n",
       "18     yami  27.0    newyork  America   8888.0\n",
       "19      Lee  31.0    Edmonto   Canada      NaN\n",
       "20   Andrew  34.0      Congo   Africa  34432.0\n",
       "21    soham  32.0     Angola   Africa  34534.0\n",
       "22     Grig  26.0    Finland   Europe  33451.0\n",
       "23    Kiara  27.0     London   Europe      NaN"
      ]
     },
     "execution_count": 9,
     "metadata": {},
     "output_type": "execute_result"
    }
   ],
   "source": [
    "df"
   ]
  },
  {
   "cell_type": "code",
   "execution_count": 10,
   "id": "b890a5f5",
   "metadata": {},
   "outputs": [
    {
     "data": {
      "text/plain": [
       "22"
      ]
     },
     "execution_count": 10,
     "metadata": {},
     "output_type": "execute_result"
    }
   ],
   "source": [
    "df['Name'].count()"
   ]
  },
  {
   "cell_type": "code",
   "execution_count": 12,
   "id": "54c0d50d",
   "metadata": {},
   "outputs": [
    {
     "data": {
      "text/plain": [
       "array(['Tom', 'Lee', 'Dave', 'Anik', 'kamal', 'Geet', 'Steven', 'Ram',\n",
       "       'hari', 'yami', 'Andrew', 'soham', 'Grig', 'Kiara'], dtype=object)"
      ]
     },
     "execution_count": 12,
     "metadata": {},
     "output_type": "execute_result"
    }
   ],
   "source": [
    "#gives names of unique names\n",
    "df['Name'].unique()"
   ]
  },
  {
   "cell_type": "code",
   "execution_count": 13,
   "id": "2982ac07",
   "metadata": {},
   "outputs": [
    {
     "data": {
      "text/plain": [
       "14"
      ]
     },
     "execution_count": 13,
     "metadata": {},
     "output_type": "execute_result"
    }
   ],
   "source": [
    "#nunique gives number of count of unique values\n",
    "df['Name'].nunique()"
   ]
  },
  {
   "cell_type": "code",
   "execution_count": 14,
   "id": "6dd60058",
   "metadata": {},
   "outputs": [
    {
     "name": "stdout",
     "output_type": "stream",
     "text": [
      "count      22\n",
      "unique     14\n",
      "top       Lee\n",
      "freq        2\n",
      "Name: Name, dtype: object\n"
     ]
    }
   ],
   "source": [
    "print(df['Name'].describe())"
   ]
  },
  {
   "cell_type": "code",
   "execution_count": 15,
   "id": "667d703a",
   "metadata": {},
   "outputs": [
    {
     "data": {
      "text/html": [
       "<div>\n",
       "<style scoped>\n",
       "    .dataframe tbody tr th:only-of-type {\n",
       "        vertical-align: middle;\n",
       "    }\n",
       "\n",
       "    .dataframe tbody tr th {\n",
       "        vertical-align: top;\n",
       "    }\n",
       "\n",
       "    .dataframe thead th {\n",
       "        text-align: right;\n",
       "    }\n",
       "</style>\n",
       "<table border=\"1\" class=\"dataframe\">\n",
       "  <thead>\n",
       "    <tr style=\"text-align: right;\">\n",
       "      <th></th>\n",
       "      <th>Age</th>\n",
       "      <th>Salary</th>\n",
       "    </tr>\n",
       "  </thead>\n",
       "  <tbody>\n",
       "    <tr>\n",
       "      <th>count</th>\n",
       "      <td>19.000000</td>\n",
       "      <td>19.000000</td>\n",
       "    </tr>\n",
       "    <tr>\n",
       "      <th>mean</th>\n",
       "      <td>32.421053</td>\n",
       "      <td>33739.947368</td>\n",
       "    </tr>\n",
       "    <tr>\n",
       "      <th>std</th>\n",
       "      <td>7.174924</td>\n",
       "      <td>23151.188084</td>\n",
       "    </tr>\n",
       "    <tr>\n",
       "      <th>min</th>\n",
       "      <td>22.000000</td>\n",
       "      <td>3900.000000</td>\n",
       "    </tr>\n",
       "    <tr>\n",
       "      <th>25%</th>\n",
       "      <td>27.000000</td>\n",
       "      <td>8888.000000</td>\n",
       "    </tr>\n",
       "    <tr>\n",
       "      <th>50%</th>\n",
       "      <td>31.000000</td>\n",
       "      <td>33451.000000</td>\n",
       "    </tr>\n",
       "    <tr>\n",
       "      <th>75%</th>\n",
       "      <td>36.000000</td>\n",
       "      <td>54666.000000</td>\n",
       "    </tr>\n",
       "    <tr>\n",
       "      <th>max</th>\n",
       "      <td>50.000000</td>\n",
       "      <td>67666.000000</td>\n",
       "    </tr>\n",
       "  </tbody>\n",
       "</table>\n",
       "</div>"
      ],
      "text/plain": [
       "             Age        Salary\n",
       "count  19.000000     19.000000\n",
       "mean   32.421053  33739.947368\n",
       "std     7.174924  23151.188084\n",
       "min    22.000000   3900.000000\n",
       "25%    27.000000   8888.000000\n",
       "50%    31.000000  33451.000000\n",
       "75%    36.000000  54666.000000\n",
       "max    50.000000  67666.000000"
      ]
     },
     "execution_count": 15,
     "metadata": {},
     "output_type": "execute_result"
    }
   ],
   "source": [
    "#detailed statistical description/summary\n",
    "df.describe()"
   ]
  },
  {
   "cell_type": "code",
   "execution_count": 16,
   "id": "72c761d6",
   "metadata": {},
   "outputs": [
    {
     "data": {
      "text/html": [
       "<div>\n",
       "<style scoped>\n",
       "    .dataframe tbody tr th:only-of-type {\n",
       "        vertical-align: middle;\n",
       "    }\n",
       "\n",
       "    .dataframe tbody tr th {\n",
       "        vertical-align: top;\n",
       "    }\n",
       "\n",
       "    .dataframe thead th {\n",
       "        text-align: right;\n",
       "    }\n",
       "</style>\n",
       "<table border=\"1\" class=\"dataframe\">\n",
       "  <thead>\n",
       "    <tr style=\"text-align: right;\">\n",
       "      <th></th>\n",
       "      <th>Name</th>\n",
       "      <th>Age</th>\n",
       "      <th>City</th>\n",
       "      <th>Country</th>\n",
       "      <th>Salary</th>\n",
       "    </tr>\n",
       "  </thead>\n",
       "  <tbody>\n",
       "    <tr>\n",
       "      <th>count</th>\n",
       "      <td>22</td>\n",
       "      <td>19.000000</td>\n",
       "      <td>19</td>\n",
       "      <td>22</td>\n",
       "      <td>19.000000</td>\n",
       "    </tr>\n",
       "    <tr>\n",
       "      <th>unique</th>\n",
       "      <td>14</td>\n",
       "      <td>NaN</td>\n",
       "      <td>10</td>\n",
       "      <td>5</td>\n",
       "      <td>NaN</td>\n",
       "    </tr>\n",
       "    <tr>\n",
       "      <th>top</th>\n",
       "      <td>Lee</td>\n",
       "      <td>NaN</td>\n",
       "      <td>HongKong</td>\n",
       "      <td>America</td>\n",
       "      <td>NaN</td>\n",
       "    </tr>\n",
       "    <tr>\n",
       "      <th>freq</th>\n",
       "      <td>2</td>\n",
       "      <td>NaN</td>\n",
       "      <td>4</td>\n",
       "      <td>8</td>\n",
       "      <td>NaN</td>\n",
       "    </tr>\n",
       "    <tr>\n",
       "      <th>mean</th>\n",
       "      <td>NaN</td>\n",
       "      <td>32.421053</td>\n",
       "      <td>NaN</td>\n",
       "      <td>NaN</td>\n",
       "      <td>33739.947368</td>\n",
       "    </tr>\n",
       "    <tr>\n",
       "      <th>std</th>\n",
       "      <td>NaN</td>\n",
       "      <td>7.174924</td>\n",
       "      <td>NaN</td>\n",
       "      <td>NaN</td>\n",
       "      <td>23151.188084</td>\n",
       "    </tr>\n",
       "    <tr>\n",
       "      <th>min</th>\n",
       "      <td>NaN</td>\n",
       "      <td>22.000000</td>\n",
       "      <td>NaN</td>\n",
       "      <td>NaN</td>\n",
       "      <td>3900.000000</td>\n",
       "    </tr>\n",
       "    <tr>\n",
       "      <th>25%</th>\n",
       "      <td>NaN</td>\n",
       "      <td>27.000000</td>\n",
       "      <td>NaN</td>\n",
       "      <td>NaN</td>\n",
       "      <td>8888.000000</td>\n",
       "    </tr>\n",
       "    <tr>\n",
       "      <th>50%</th>\n",
       "      <td>NaN</td>\n",
       "      <td>31.000000</td>\n",
       "      <td>NaN</td>\n",
       "      <td>NaN</td>\n",
       "      <td>33451.000000</td>\n",
       "    </tr>\n",
       "    <tr>\n",
       "      <th>75%</th>\n",
       "      <td>NaN</td>\n",
       "      <td>36.000000</td>\n",
       "      <td>NaN</td>\n",
       "      <td>NaN</td>\n",
       "      <td>54666.000000</td>\n",
       "    </tr>\n",
       "    <tr>\n",
       "      <th>max</th>\n",
       "      <td>NaN</td>\n",
       "      <td>50.000000</td>\n",
       "      <td>NaN</td>\n",
       "      <td>NaN</td>\n",
       "      <td>67666.000000</td>\n",
       "    </tr>\n",
       "  </tbody>\n",
       "</table>\n",
       "</div>"
      ],
      "text/plain": [
       "       Name        Age      City  Country        Salary\n",
       "count    22  19.000000        19       22     19.000000\n",
       "unique   14        NaN        10        5           NaN\n",
       "top     Lee        NaN  HongKong  America           NaN\n",
       "freq      2        NaN         4        8           NaN\n",
       "mean    NaN  32.421053       NaN      NaN  33739.947368\n",
       "std     NaN   7.174924       NaN      NaN  23151.188084\n",
       "min     NaN  22.000000       NaN      NaN   3900.000000\n",
       "25%     NaN  27.000000       NaN      NaN   8888.000000\n",
       "50%     NaN  31.000000       NaN      NaN  33451.000000\n",
       "75%     NaN  36.000000       NaN      NaN  54666.000000\n",
       "max     NaN  50.000000       NaN      NaN  67666.000000"
      ]
     },
     "execution_count": 16,
     "metadata": {},
     "output_type": "execute_result"
    }
   ],
   "source": [
    "#include=all    will take all data including numeric,string,float column\n",
    "df.describe(include='all')"
   ]
  },
  {
   "cell_type": "markdown",
   "id": "3c1457e6",
   "metadata": {},
   "source": [
    "Dropping Rows and Columns In PANDAS"
   ]
  },
  {
   "cell_type": "code",
   "execution_count": 18,
   "id": "e9763021",
   "metadata": {},
   "outputs": [
    {
     "data": {
      "text/plain": [
       "Index(['Name', 'Age', 'City', 'Country', 'Salary'], dtype='object')"
      ]
     },
     "execution_count": 18,
     "metadata": {},
     "output_type": "execute_result"
    }
   ],
   "source": [
    "df.columns"
   ]
  },
  {
   "cell_type": "code",
   "execution_count": null,
   "id": "603de05d",
   "metadata": {},
   "outputs": [],
   "source": [
    "df2=df.drop([])"
   ]
  },
  {
   "cell_type": "markdown",
   "id": "91dfb454",
   "metadata": {},
   "source": [
    "# DATA MUNGING"
   ]
  },
  {
   "cell_type": "code",
   "execution_count": 20,
   "id": "ad594ba8",
   "metadata": {},
   "outputs": [],
   "source": [
    "#It converts a particular data into different format\n",
    "import pandas as pd\n",
    "country=pd.read_csv(\"emp1.csv\",index_col=0)\n",
    "\n",
    "country.to_html('emp1test.html')"
   ]
  },
  {
   "cell_type": "markdown",
   "id": "a4452c44",
   "metadata": {},
   "source": [
    "# Pandas Date Time Functions"
   ]
  },
  {
   "cell_type": "code",
   "execution_count": null,
   "id": "a27c3624",
   "metadata": {},
   "outputs": [],
   "source": [
    "import pandas as pd\n",
    "df=pd.read_csv(\"hrdata.csv\")"
   ]
  },
  {
   "cell_type": "code",
   "execution_count": null,
   "id": "0a3ede37",
   "metadata": {},
   "outputs": [],
   "source": []
  },
  {
   "cell_type": "code",
   "execution_count": null,
   "id": "c14cb72e",
   "metadata": {},
   "outputs": [],
   "source": []
  },
  {
   "cell_type": "code",
   "execution_count": null,
   "id": "4b5c96e0",
   "metadata": {},
   "outputs": [],
   "source": []
  }
 ],
 "metadata": {
  "kernelspec": {
   "display_name": "Python 3 (ipykernel)",
   "language": "python",
   "name": "python3"
  },
  "language_info": {
   "codemirror_mode": {
    "name": "ipython",
    "version": 3
   },
   "file_extension": ".py",
   "mimetype": "text/x-python",
   "name": "python",
   "nbconvert_exporter": "python",
   "pygments_lexer": "ipython3",
   "version": "3.9.7"
  }
 },
 "nbformat": 4,
 "nbformat_minor": 5
}
