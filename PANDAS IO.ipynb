{
 "cells": [
  {
   "cell_type": "code",
   "execution_count": 1,
   "id": "fc934b49",
   "metadata": {},
   "outputs": [],
   "source": [
    "import pandas as pd"
   ]
  },
  {
   "cell_type": "code",
   "execution_count": 4,
   "id": "6708dd63",
   "metadata": {},
   "outputs": [
    {
     "name": "stdout",
     "output_type": "stream",
     "text": [
      "   Emp_Id     Name  Age   Position  Salary         DOB\n",
      "0     101     John   12    Manager   10000   12/2/2001\n",
      "1     102     Jack   23     Senior   20000   10/1/1998\n",
      "2     103    Ricky   23  Executive   10000   12/2/1992\n",
      "3     104    Harry   25      Sales   21000  23/10/1987\n",
      "4     105    Jacky   45       Head   30000   12/1/1997\n",
      "5     106     Alex   34     Dealer   21000  31/10/2001\n",
      "6     107  Florina   23  Assistant   10000   21/1/2000\n",
      "7     108    Alira   32     Senior   13000   12/2/2003\n"
     ]
    }
   ],
   "source": [
    "df=pd.read_csv(\"hrdata.csv\")\n",
    "print(df)"
   ]
  },
  {
   "cell_type": "code",
   "execution_count": null,
   "id": "70a1ae61",
   "metadata": {},
   "outputs": [],
   "source": []
  }
 ],
 "metadata": {
  "kernelspec": {
   "display_name": "Python 3 (ipykernel)",
   "language": "python",
   "name": "python3"
  },
  "language_info": {
   "codemirror_mode": {
    "name": "ipython",
    "version": 3
   },
   "file_extension": ".py",
   "mimetype": "text/x-python",
   "name": "python",
   "nbconvert_exporter": "python",
   "pygments_lexer": "ipython3",
   "version": "3.9.7"
  }
 },
 "nbformat": 4,
 "nbformat_minor": 5
}
