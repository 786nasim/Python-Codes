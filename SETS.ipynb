{
 "cells": [
  {
   "cell_type": "markdown",
   "id": "8870df64",
   "metadata": {},
   "source": [
    "# SETS"
   ]
  },
  {
   "cell_type": "code",
   "execution_count": 1,
   "id": "25880f62",
   "metadata": {},
   "outputs": [],
   "source": [
    "#sets can be written in two ways\n",
    "\n",
    "x={22,33,25,21,20}"
   ]
  },
  {
   "cell_type": "code",
   "execution_count": 2,
   "id": "90494858",
   "metadata": {},
   "outputs": [
    {
     "data": {
      "text/plain": [
       "set"
      ]
     },
     "execution_count": 2,
     "metadata": {},
     "output_type": "execute_result"
    }
   ],
   "source": [
    "type(x)"
   ]
  },
  {
   "cell_type": "code",
   "execution_count": 3,
   "id": "5be068fa",
   "metadata": {},
   "outputs": [],
   "source": [
    "x=set([12,20,14,15])"
   ]
  },
  {
   "cell_type": "code",
   "execution_count": 4,
   "id": "16436aff",
   "metadata": {},
   "outputs": [
    {
     "data": {
      "text/plain": [
       "{12, 14, 15, 20}"
      ]
     },
     "execution_count": 4,
     "metadata": {},
     "output_type": "execute_result"
    }
   ],
   "source": [
    "x"
   ]
  },
  {
   "cell_type": "code",
   "execution_count": 5,
   "id": "228d2807",
   "metadata": {},
   "outputs": [],
   "source": [
    "a=(12,13,14,15)"
   ]
  },
  {
   "cell_type": "code",
   "execution_count": 6,
   "id": "064d2d94",
   "metadata": {},
   "outputs": [
    {
     "data": {
      "text/plain": [
       "(12, 13, 14, 15)"
      ]
     },
     "execution_count": 6,
     "metadata": {},
     "output_type": "execute_result"
    }
   ],
   "source": [
    "a"
   ]
  },
  {
   "cell_type": "code",
   "execution_count": 7,
   "id": "096b0418",
   "metadata": {},
   "outputs": [
    {
     "data": {
      "text/plain": [
       "tuple"
      ]
     },
     "execution_count": 7,
     "metadata": {},
     "output_type": "execute_result"
    }
   ],
   "source": [
    "type(a)\n"
   ]
  },
  {
   "cell_type": "code",
   "execution_count": 8,
   "id": "120cc927",
   "metadata": {},
   "outputs": [],
   "source": [
    "a={12,14,10,12}"
   ]
  },
  {
   "cell_type": "code",
   "execution_count": 9,
   "id": "aa51e4c9",
   "metadata": {},
   "outputs": [
    {
     "data": {
      "text/plain": [
       "{10, 12, 14}"
      ]
     },
     "execution_count": 9,
     "metadata": {},
     "output_type": "execute_result"
    }
   ],
   "source": [
    "a"
   ]
  },
  {
   "cell_type": "code",
   "execution_count": 10,
   "id": "7dd60f0d",
   "metadata": {},
   "outputs": [],
   "source": [
    "days={'Monday','Tuesday','Wednesday','Thursday'}"
   ]
  },
  {
   "cell_type": "code",
   "execution_count": 11,
   "id": "f4628fe4",
   "metadata": {},
   "outputs": [
    {
     "data": {
      "text/plain": [
       "{'Monday', 'Thursday', 'Tuesday', 'Wednesday'}"
      ]
     },
     "execution_count": 11,
     "metadata": {},
     "output_type": "execute_result"
    }
   ],
   "source": [
    "days"
   ]
  },
  {
   "cell_type": "code",
   "execution_count": 12,
   "id": "87c16f3d",
   "metadata": {},
   "outputs": [],
   "source": [
    "#it adds the data anywhere because it does not supports indexing\n",
    "days.add('Sunday')"
   ]
  },
  {
   "cell_type": "code",
   "execution_count": 13,
   "id": "513619d5",
   "metadata": {},
   "outputs": [
    {
     "data": {
      "text/plain": [
       "{'Monday', 'Sunday', 'Thursday', 'Tuesday', 'Wednesday'}"
      ]
     },
     "execution_count": 13,
     "metadata": {},
     "output_type": "execute_result"
    }
   ],
   "source": [
    "days"
   ]
  },
  {
   "cell_type": "code",
   "execution_count": 14,
   "id": "60a043e4",
   "metadata": {},
   "outputs": [],
   "source": [
    "days.remove(\"Sunday\")"
   ]
  },
  {
   "cell_type": "code",
   "execution_count": 15,
   "id": "274fc07c",
   "metadata": {},
   "outputs": [
    {
     "data": {
      "text/plain": [
       "{'Monday', 'Thursday', 'Tuesday', 'Wednesday'}"
      ]
     },
     "execution_count": 15,
     "metadata": {},
     "output_type": "execute_result"
    }
   ],
   "source": [
    "days"
   ]
  },
  {
   "cell_type": "code",
   "execution_count": 16,
   "id": "db7458f0",
   "metadata": {},
   "outputs": [
    {
     "data": {
      "text/plain": [
       "'Thursday'"
      ]
     },
     "execution_count": 16,
     "metadata": {},
     "output_type": "execute_result"
    }
   ],
   "source": [
    "days.pop()"
   ]
  },
  {
   "cell_type": "code",
   "execution_count": 17,
   "id": "76f24ab0",
   "metadata": {},
   "outputs": [
    {
     "data": {
      "text/plain": [
       "'Wednesday'"
      ]
     },
     "execution_count": 17,
     "metadata": {},
     "output_type": "execute_result"
    }
   ],
   "source": [
    "days.pop()"
   ]
  },
  {
   "cell_type": "code",
   "execution_count": 18,
   "id": "f14f1704",
   "metadata": {},
   "outputs": [
    {
     "data": {
      "text/plain": [
       "{'Monday', 'Tuesday'}"
      ]
     },
     "execution_count": 18,
     "metadata": {},
     "output_type": "execute_result"
    }
   ],
   "source": [
    "days"
   ]
  },
  {
   "cell_type": "code",
   "execution_count": 19,
   "id": "006b38cb",
   "metadata": {},
   "outputs": [],
   "source": [
    "days.clear()"
   ]
  },
  {
   "cell_type": "code",
   "execution_count": 20,
   "id": "0f034d8b",
   "metadata": {},
   "outputs": [
    {
     "data": {
      "text/plain": [
       "set()"
      ]
     },
     "execution_count": 20,
     "metadata": {},
     "output_type": "execute_result"
    }
   ],
   "source": [
    "days"
   ]
  },
  {
   "cell_type": "code",
   "execution_count": null,
   "id": "fcde3f24",
   "metadata": {},
   "outputs": [],
   "source": []
  }
 ],
 "metadata": {
  "kernelspec": {
   "display_name": "Python 3 (ipykernel)",
   "language": "python",
   "name": "python3"
  },
  "language_info": {
   "codemirror_mode": {
    "name": "ipython",
    "version": 3
   },
   "file_extension": ".py",
   "mimetype": "text/x-python",
   "name": "python",
   "nbconvert_exporter": "python",
   "pygments_lexer": "ipython3",
   "version": "3.9.7"
  }
 },
 "nbformat": 4,
 "nbformat_minor": 5
}
